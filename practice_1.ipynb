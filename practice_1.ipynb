{
 "cells": [
  {
   "cell_type": "markdown",
   "id": "19feeb67",
   "metadata": {},
   "source": [
    "# Practice 1 \n",
    "- Start with Easy\n",
    "- Questions from LeetCode"
   ]
  },
  {
   "cell_type": "markdown",
   "id": "6c847fc9",
   "metadata": {},
   "source": [
    "# Questions # 1-25"
   ]
  },
  {
   "cell_type": "markdown",
   "id": "137a9c88",
   "metadata": {},
   "source": [
    "## 1. Two Sum\n",
    "- Given an array of integers nums and an integer target, return indices of the two numbers such that they add up to target.\n",
    "\n",
    "- You may assume that each input would have exactly one solution, and you may not use the same element twice.\n",
    "\n",
    "- You can return the answer in any order.\n",
    "- Example 1:\n",
    "\n",
    "- Input: nums = [2,7,11,15], target = 9\n",
    "- Output: [0,1]\n",
    "- Explanation: Because nums[0] + nums[1] == 9, we return [0, 1].\n",
    "- Example 2:\n",
    "\n",
    "- Input: nums = [3,2,4], target = 6\n",
    "- Output: [1,2]\n",
    "- Example 3:\n",
    "\n",
    "- Input: nums = [3,3], target = 6\n",
    "- Output: [0,1]\n",
    "\n",
    "- Constraints:\n",
    "\n",
    "- 2 <= nums.length <= 104\n",
    "- -109 <= nums[i] <= 109\n",
    "- -109 <= target <= 109\n",
    "- Only one valid answer exists.\n",
    " \n",
    "\n",
    "- Follow-up: Can you come up with an algorithm that is less than O(n2) time complexity?"
   ]
  },
  {
   "cell_type": "code",
   "execution_count": 1,
   "id": "598564b9",
   "metadata": {},
   "outputs": [],
   "source": [
    "from typing import List"
   ]
  },
  {
   "cell_type": "code",
   "execution_count": 2,
   "id": "06d3e151",
   "metadata": {},
   "outputs": [],
   "source": [
    "class Solution:\n",
    "    def twoSum(self, nums: List[int], target: int) -> List[int]:\n",
    "        n = len(nums)\n",
    "        for i in range(n):\n",
    "            for j in range(i + 1, n):\n",
    "                if nums[i] + nums[j] == target:\n",
    "                    return [i, j]\n",
    "        return []"
   ]
  },
  {
   "cell_type": "code",
   "execution_count": 4,
   "id": "97b862e6",
   "metadata": {},
   "outputs": [
    {
     "name": "stdout",
     "output_type": "stream",
     "text": [
      "[0, 1]\n",
      "[1, 2]\n"
     ]
    }
   ],
   "source": [
    "sol = Solution()\n",
    "\n",
    "input = [2, 7, 11, 15]\n",
    "target = 9\n",
    "print(sol.twoSum(input, target))\n",
    "\n",
    "input2 = [3, 2, 4]\n",
    "target2 = 6\n",
    "print(sol.twoSum(input2, target2))"
   ]
  },
  {
   "cell_type": "markdown",
   "id": "a0ff91a4",
   "metadata": {},
   "source": [
    "## 2. Get the Size of a DataFrame\n",
    "- DataFrame players:\n",
    "\n",
    "| Column Name | Type   |\n",
    "| ----------- | ------ | \n",
    "| player_id   | int    |\n",
    "| name        | object |\n",
    "| age         | int    |\n",
    "| position    | object |\n",
    "| ...         | ...    |\n",
    "- Write a solution to calculate and display the number of rows and columns of players.\n",
    "\n",
    "- Return the result as an array:\n",
    "\n",
    "- [number of rows, number of columns]\n",
    "\n",
    "- The result format is in the following example.\n",
    "\n",
    "- Example 1:\n",
    "\n",
    "Input:\n",
    "| player_id | name     | age | position    | team               |\n",
    "| --------- | -------- | --- | ---------   | -------------------|\n",
    "| 846       | Mason    | 21  | Forward     | RealMadrid         |\n",
    "| 749       | Riley    | 30  | Winger      | Barcelona          |\n",
    "| 155       | Bob      | 28  | Striker     | ManchesterUnited   |\n",
    "| 583       | Isabella | 32  | Goalkeeper  | Liverpool          |\n",
    "| 388       | Zachary  | 24  | Midfielder  | BayernMunich       |\n",
    "| 883       | Ava      | 23  | Defender    | Chelsea            |\n",
    "| 355       | Violet   | 18  | Striker     | Juventus           |\n",
    "| 247       | Thomas   | 27  | Striker     | ParisSaint-Germain |\n",
    "| 761       | Jack     | 33  | Midfielder  | ManchesterCity     |\n",
    "| 642       | Charlie  | 36  | Center-back | Arsenal            |\n",
    "\n",
    "- Output:\n",
    "- [10, 5]\n",
    "- Explanation:\n",
    "- This DataFrame contains 10 rows and 5 columns."
   ]
  },
  {
   "cell_type": "code",
   "execution_count": 5,
   "id": "3dd37773",
   "metadata": {},
   "outputs": [],
   "source": [
    "import pandas as pd\n",
    "\n",
    "def getDataframeSize(players: pd.DataFrame) -> List[int]:\n",
    "    return [len(players), len(players.columns)]"
   ]
  },
  {
   "cell_type": "markdown",
   "id": "8b481b63",
   "metadata": {},
   "source": [
    "## 3. Create a DataFrame from List\n",
    "\n",
    "- Write a solution to create a DataFrame from a 2D list called student_data. This 2D list contains the IDs and ages of some students.\n",
    "\n",
    "- The DataFrame should have two columns, student_id and age, and be in the same order as the original 2D list.\n",
    "\n",
    "- The result format is in the following example.\n",
    "\n",
    " \n",
    "\n",
    "- Example 1:\n",
    "\n",
    "- Input:\n",
    "- student_data:\n",
    "```python\n",
    "[\n",
    "  [1, 15],\n",
    "  [2, 11],\n",
    "  [3, 11],\n",
    "  [4, 20]\n",
    "]\n",
    "```\n",
    "Output:\n",
    "\n",
    "| student_id | age |\n",
    "| -------- | -- |\n",
    "| 1          | 15  |\n",
    "| 2          | 11  |\n",
    "| 3          | 11  |\n",
    "| 4          | 20  |\n",
    "\n",
    "- Explanation:\n",
    "- A DataFrame was created on top of student_data, with two columns named student_id and age."
   ]
  },
  {
   "cell_type": "code",
   "execution_count": 6,
   "id": "1a106277",
   "metadata": {},
   "outputs": [],
   "source": [
    "import pandas as pd\n",
    "\n",
    "def createDataframe(student_data: List[List[int]]) -> pd.DataFrame:\n",
    "    return pd.DataFrame(data=student_data, columns=[\"student_id\", \"age\"])"
   ]
  },
  {
   "cell_type": "markdown",
   "id": "5120bb8a",
   "metadata": {},
   "source": [
    "## 4. Check If Digits Are Equal in String After Operations I\n",
    "- You are given a string s consisting of digits. Perform the following operation repeatedly until the string has exactly two digits:\n",
    "\n",
    "- For each pair of consecutive digits in s, starting from the first digit, calculate a new digit as the sum of the two digits modulo 10.\n",
    "Replace s with the sequence of newly calculated digits, maintaining the order in which they are computed.\n",
    "Return true if the final two digits in s are the same; otherwise, return false.\n",
    "\n",
    " \n",
    "\n",
    "- Example 1:\n",
    "\n",
    "- Input: s = \"3902\"\n",
    "\n",
    "- Output: true\n",
    "\n",
    "- Explanation:\n",
    "\n",
    "- Initially, s = \"3902\"\n",
    "- First operation:\n",
    "- (s[0] + s[1]) % 10 = (3 + 9) % 10 = 2\n",
    "- (s[1] + s[2]) % 10 = (9 + 0) % 10 = 9\n",
    "- (s[2] + s[3]) % 10 = (0 + 2) % 10 = 2\n",
    "- s becomes \"292\"\n",
    "- Second operation:\n",
    "- (s[0] + s[1]) % 10 = (2 + 9) % 10 = 1\n",
    "- (s[1] + s[2]) % 10 = (9 + 2) % 10 = 1\n",
    "- s becomes \"11\"\n",
    "- Since the digits in \"11\" are the same, the output is true.\n",
    "- Example 2:\n",
    "\n",
    "- Input: s = \"34789\"\n",
    "\n",
    "- Output: false\n",
    "\n",
    "- Explanation:\n",
    "\n",
    "- Initially, s = \"34789\".\n",
    "- After the first operation, s = \"7157\".\n",
    "- After the second operation, s = \"862\".\n",
    "- After the third operation, s = \"48\".\n",
    "- Since '4' != '8', the output is false.\n",
    " \n",
    "\n",
    "- Constraints:\n",
    "\n",
    "- 3 <= s.length <= 100\n",
    "- s consists of only digits."
   ]
  },
  {
   "cell_type": "code",
   "execution_count": 7,
   "id": "eeeff4db",
   "metadata": {},
   "outputs": [],
   "source": [
    "class Solution:\n",
    "    def hasSameDigits(self, s: str) -> bool:\n",
    "        while len(s) > 2:\n",
    "            new_s_list = []\n",
    "            for i in range(len(s) - 1):\n",
    "                digit1 = int(s[i])\n",
    "                digit2 = int(s[i+1])\n",
    "                new_digit = (digit1 + digit2) % 10\n",
    "                new_s_list.append(str(new_digit))\n",
    "            s = \"\".join(new_s_list)\n",
    "        \n",
    "        return s[0] == s[1]"
   ]
  },
  {
   "cell_type": "code",
   "execution_count": 8,
   "id": "022b271a",
   "metadata": {},
   "outputs": [
    {
     "data": {
      "text/plain": [
       "True"
      ]
     },
     "execution_count": 8,
     "metadata": {},
     "output_type": "execute_result"
    }
   ],
   "source": [
    "sol = Solution()\n",
    "sol.hasSameDigits(\"3902\")"
   ]
  },
  {
   "cell_type": "markdown",
   "id": "66d66097",
   "metadata": {},
   "source": [
    "## 5. Maximum Difference Between Even and Odd Frequency I\n",
    "- You are given a string s consisting of lowercase English letters.\n",
    "- Your task is to find the maximum difference diff = freq(a1) - freq(a2) between the frequency of characters a1 and a2 in the string such that:\n",
    "    - a1 has an odd frequency in the string.\n",
    "    - a2 has an even frequency in the string.\n",
    "- Return this maximum difference.\n",
    "\n",
    "- Example 1:\n",
    "\n",
    "- Input: s = \"aaaaabbc\"\n",
    "\n",
    "- Output: 3\n",
    "\n",
    "- Explanation:\n",
    "    - The character 'a' has an odd frequency of 5, and 'b' has an even frequency of 2.\n",
    "    - The maximum difference is 5 - 2 = 3.\n",
    "\n",
    "- Example 2:\n",
    "\n",
    "- Input: s = \"abcabcab\"\n",
    "\n",
    "- Output: 1\n",
    "\n",
    "- Explanation:\n",
    "    - The character 'a' has an odd frequency of 3, and 'c' has an even frequency of 2.\n",
    "    - The maximum difference is 3 - 2 = 1.\n",
    "\n",
    "- Constraints:\n",
    "    - 3 <= s.length <= 100\n",
    "    - s consists only of lowercase English letters.\n",
    "    - s contains at least one character with an odd frequency and one with an even frequency."
   ]
  },
  {
   "cell_type": "code",
   "execution_count": 9,
   "id": "fa892cc5",
   "metadata": {},
   "outputs": [],
   "source": [
    "from collections import Counter\n",
    "import math"
   ]
  },
  {
   "cell_type": "code",
   "execution_count": 10,
   "id": "6a0abf30",
   "metadata": {},
   "outputs": [],
   "source": [
    "\n",
    "class Solution:\n",
    "    def maxDifference(self, s: str) -> int:\n",
    "        freq = Counter(s)\n",
    "        maxOdd = 0\n",
    "        maxEven = math.inf\n",
    "        for value in freq.values():\n",
    "            if value == 0: continue\n",
    "            if value % 2 == 0:\n",
    "                # even case\n",
    "                maxEven = min(value, maxEven)\n",
    "            else:\n",
    "                # odd case\n",
    "                maxOdd = max(value, maxOdd)\n",
    "        return maxOdd - maxEven\n"
   ]
  },
  {
   "cell_type": "code",
   "execution_count": 11,
   "id": "93339d94",
   "metadata": {},
   "outputs": [
    {
     "data": {
      "text/plain": [
       "3"
      ]
     },
     "execution_count": 11,
     "metadata": {},
     "output_type": "execute_result"
    }
   ],
   "source": [
    "s = \"aaaaabbc\"\n",
    "sol = Solution()\n",
    "sol.maxDifference(s)"
   ]
  },
  {
   "cell_type": "markdown",
   "id": "3bfea771",
   "metadata": {},
   "source": [
    "## 6. Palindrome Number\n",
    "- Given an integer x, return true if x is a palindrome, and false otherwise.\n",
    "\n",
    "- Example 1:\n",
    "    - Input: x = 121\n",
    "    - Output: true\n",
    "    - Explanation: 121 reads as 121 from left to right and from right to left\n",
    "- Example 2:\n",
    "    - Input: x = -121\n",
    "    - Output: false\n",
    "    - Explanation: From left to right, it reads -121. From right to left, it becomes 121-. Therefore it is not a palindrome.\n",
    "- Example 3:\n",
    "    - Input: x = 10\n",
    "    - Output: fasle\n",
    "    - Reads 01 from right to left. Therefore it is not a palindrome."
   ]
  },
  {
   "cell_type": "code",
   "execution_count": 12,
   "id": "6d5213d8",
   "metadata": {},
   "outputs": [],
   "source": [
    "class Solution:\n",
    "    def isPalindrome(self, x: int) -> bool:\n",
    "        if x < 0:\n",
    "            return False\n",
    "        num_str = str(x)\n",
    "        return num_str == num_str[::-1]\n"
   ]
  },
  {
   "cell_type": "code",
   "execution_count": 13,
   "id": "c9fddbb5",
   "metadata": {},
   "outputs": [
    {
     "data": {
      "text/plain": [
       "True"
      ]
     },
     "execution_count": 13,
     "metadata": {},
     "output_type": "execute_result"
    }
   ],
   "source": [
    "x = 121\n",
    "sol = Solution()\n",
    "sol.isPalindrome(121)\n"
   ]
  },
  {
   "cell_type": "markdown",
   "id": "91f2d361",
   "metadata": {},
   "source": [
    "## 7. Roman to Integer\n",
    "- Roman numerals are represented by seven different symbols: I, V, X, L, C, D and M.\n",
    "\n",
    "| Symbol  |    Value     |\n",
    "| ----- | ---------- |\n",
    "| I       |     1 |\n",
    "| V       |     5 |\n",
    "| X       |     10 |\n",
    "| L       |     50 |\n",
    "| C       |     100 |\n",
    "| D       |     500 |\n",
    "| M       |     1000 |\n",
    "\n",
    "- For example, 2 is written as II in Roman numeral, just two ones added together. 12 is written as XII, which is simply X + II. The number 27 is written as XXVII, which is XX + V + II.\n",
    "\n",
    "- Roman numerals are usually written largest to smallest from left to right. However, the numeral for four is not IIII. Instead, the number four is written as IV. Because the one is before the five we subtract it making four. The same principle applies to the number nine, which is written as IX. There are six instances where subtraction is used:\n",
    "    -   I can be placed before V (5) and X (10) to make 4 and 9. \n",
    "    -   X can be placed before L (50) and C (100) to make 40 and 90. \n",
    "    -   C can be placed before D (500) and M (1000) to make 400 and 900.\n",
    "- Given a roman numeral, convert it to an integer.\n",
    "\n",
    "- Example 1:\n",
    "    - Input: s = \"III\"\n",
    "    - Output: 3\n",
    "    - Explanation: III = 3.\n",
    "\n",
    "- Example 2:\n",
    "    - Input: s = \"LVIII\"\n",
    "    - Output: 58\n",
    "    - Explanation: L = 50, V= 5, III = 3.\n",
    "\n",
    "- Example 3:\n",
    "    - Input: s = \"MCMXCIV\"\n",
    "    - Output: 1994\n",
    "    - Explanation: M = 1000, CM = 900, XC = 90 and IV = 4.\n",
    "\n",
    "- Constraints:\n",
    "    - 1 <= s.length <= 15\n",
    "    - s contains only the characters ('I', 'V', 'X', 'L', 'C', 'D', 'M').\n",
    "    - It is guaranteed that s is a valid roman numeral in the range [1, 3999]."
   ]
  },
  {
   "cell_type": "code",
   "execution_count": 14,
   "id": "b8e72d3c",
   "metadata": {},
   "outputs": [],
   "source": [
    "class Solution:\n",
    "    def romanToInt(self, s: str) -> int:\n",
    "        roman_map = {\n",
    "        'I': 1, 'V': 5, 'X': 10, 'L': 50,\n",
    "        'C': 100, 'D': 500, 'M': 1000\n",
    "    }\n",
    "        total = 0\n",
    "        # Iterate from the second to last character to handle subtractive cases\n",
    "        for i in range(len(s) - 1):\n",
    "            current_value = roman_map[s[i]]\n",
    "            next_value = roman_map[s[i+1]]\n",
    "            \n",
    "            if current_value < next_value:\n",
    "                total -= current_value\n",
    "            else:\n",
    "                total += current_value\n",
    "                \n",
    "        # Add the value of the last character\n",
    "        total += roman_map[s[-1]]\n",
    "        \n",
    "        return total"
   ]
  },
  {
   "cell_type": "code",
   "execution_count": 15,
   "id": "125982ed",
   "metadata": {},
   "outputs": [
    {
     "name": "stdout",
     "output_type": "stream",
     "text": [
      "3\n",
      "58\n",
      "1994\n"
     ]
    }
   ],
   "source": [
    "\n",
    "sol = Solution()\n",
    "input = \"III\"\n",
    "print(sol.romanToInt(input))\n",
    "\n",
    "input2 = \"LVIII\"\n",
    "print(sol.romanToInt(input2))\n",
    "\n",
    "input3 = \"MCMXCIV\"\n",
    "print(sol.romanToInt(input3))"
   ]
  },
  {
   "cell_type": "markdown",
   "id": "1a3f7191",
   "metadata": {},
   "source": [
    "## 8. Longest Common Prefix\n",
    "- Write a function to find the longest common prefix string amongst an array of strings.\n",
    "\n",
    "- If there is no common prefix, return an empty string \"\".\n",
    "\n",
    "- Example 1:\n",
    "    - Input: strs = [\"flower\",\"flow\",\"flight\"]\n",
    "    - Output: \"fl\"\n",
    "\n",
    "- Example 2:\n",
    "    - Input: strs = [\"dog\",\"racecar\",\"car\"]\n",
    "    - Output: \"\"\n",
    "    - Explanation: There is no common prefix among the input strings.\n",
    " \n",
    "\n",
    "- Constraints:\n",
    "    - 1 <= strs.length <= 200\n",
    "    - 0 <= strs[i].length <= 200\n",
    "    - strs[i] consists of only lowercase English letters if it is non-empty."
   ]
  },
  {
   "cell_type": "code",
   "execution_count": 24,
   "id": "c6d8bb9b",
   "metadata": {},
   "outputs": [],
   "source": [
    "class Solution:\n",
    "    def longestCommonPrefix(self, strs: List[str]) -> str:\n",
    "        if not strs:\n",
    "            return \"\"\n",
    "        if len(strs) == 1:\n",
    "            return strs[0]\n",
    "\n",
    "        # Sort the strings to easily find the common prefix between the first and last\n",
    "        # (lexicographically smallest and largest)\n",
    "        # strs.sort() \n",
    "        \n",
    "        first_str = strs[0]\n",
    "        last_str = strs[-1]\n",
    "        common_prefix = \"\"\n",
    "        \n",
    "\n",
    "        for i in range(min(len(first_str), len(last_str))):\n",
    "            if first_str[i] == last_str[i]:\n",
    "                common_prefix += first_str[i]\n",
    "            else:\n",
    "                break\n",
    "                \n",
    "        return common_prefix\n"
   ]
  },
  {
   "cell_type": "code",
   "execution_count": 25,
   "id": "e4dc7007",
   "metadata": {},
   "outputs": [
    {
     "name": "stdout",
     "output_type": "stream",
     "text": [
      "fl\n",
      "\n"
     ]
    }
   ],
   "source": [
    "\n",
    "sol = Solution()\n",
    "strs = [\"flower\",\"flow\",\"flight\"]\n",
    "print(sol.longestCommonPrefix(strs)) # fl\n",
    "\n",
    "strs = [\"dog\",\"racecar\",\"car\"]\n",
    "print(sol.longestCommonPrefix(strs)) # print empty string \"\""
   ]
  },
  {
   "cell_type": "markdown",
   "id": "5ebd05fe",
   "metadata": {},
   "source": [
    "## 9. Valid Parentheses\n",
    "- Given a string s containing just the characters '(', ')', '{', '}', '[' and ']', determine if the input string is valid.\n",
    "\n",
    "- An input string is valid if:\n",
    "    - Open brackets must be closed by the same type of brackets.\n",
    "    - Open brackets must be closed in the correct order.\n",
    "    - Every close bracket has a corresponding open bracket of the same type.\n",
    "\n",
    "- Example 1:\n",
    "    - Input: s = \"()\"\n",
    "    - Output: true\n",
    "\n",
    "- Example 2:\n",
    "    - Input: s = \"()[]{}\"\n",
    "    - Output: true\n",
    "\n",
    "- Example 3:\n",
    "    - Input: s = \"(]\"\n",
    "    - Output: false\n",
    "\n",
    "- Example 4:\n",
    "    - Input: s = \"([])\"\n",
    "    - Output: true\n",
    "\n",
    "- Example 5:\n",
    "    - Input: s = \"([)]\"\n",
    "    - Output: false\n",
    "\n",
    "- Constraints:\n",
    "    - 1 <= s.length <= 104\n",
    "    - s consists of parentheses only '()[]{}'."
   ]
  },
  {
   "cell_type": "code",
   "execution_count": 26,
   "id": "9ccdd61b",
   "metadata": {},
   "outputs": [],
   "source": [
    "class Solution:\n",
    "    def isValid(self, s: str) -> bool:\n",
    "        stack = []\n",
    "        bracket_map = {')': '(', '}': '{', ']': '['}\n",
    "\n",
    "        for char in s:\n",
    "            if char in bracket_map.values():  # Opening bracket\n",
    "                stack.append(char)\n",
    "            elif char in bracket_map.keys():  # Closing bracket\n",
    "                if not stack or stack.pop() != bracket_map[char]:\n",
    "                    return False\n",
    "        return not stack  # Stack should be empty if all brackets are matched"
   ]
  },
  {
   "cell_type": "code",
   "execution_count": 27,
   "id": "6675e1c2",
   "metadata": {},
   "outputs": [
    {
     "name": "stdout",
     "output_type": "stream",
     "text": [
      "True\n",
      "True\n"
     ]
    }
   ],
   "source": [
    "sol = Solution()\n",
    "\n",
    "input = \"()\"\n",
    "print(sol.isValid(input))\n",
    "\n",
    "s = \"()[]{}\"\n",
    "print(sol.isValid(s))\n",
    "\n"
   ]
  },
  {
   "cell_type": "markdown",
   "id": "f7f3ffb4",
   "metadata": {},
   "source": [
    "## 10. Merge Two Sorted Lists\n",
    " - You are given the heads of two sorted linked lists list1 and list2.\n",
    "- Merge the two lists into one sorted list. The list should be made by splicing together the nodes of the first two lists.\n",
    "- Return the head of the merged linked list.\n",
    "\n",
    "- Example 1:\n",
    "    - Input: list1 = [1,2,4], list2 = [1,3,4]\n",
    "    - Output: [1,1,2,3,4,4]\n",
    "\n",
    "- Example 2:\n",
    "    - Input: list1 = [], list2 = []\n",
    "    - Output: []\n",
    "\n",
    "- Example 3:\n",
    "    - Input: list1 = [], list2 = [0]\n",
    "    - Output: [0]\n",
    "\n",
    "- Constraints:\n",
    "    - The number of nodes in both lists is in the range [0, 50].\n",
    "    - -100 <= Node.val <= 100\n",
    "    - Both list1 and list2 are sorted in non-decreasing order."
   ]
  },
  {
   "cell_type": "code",
   "execution_count": 28,
   "id": "de63df68",
   "metadata": {},
   "outputs": [],
   "source": [
    "from typing import Optional\n",
    "\n",
    "# Definition for singly-linked list.\n",
    "class ListNode:\n",
    "    def __init__(self, val=0, next=None):\n",
    "        self.val = val\n",
    "        self.next = next\n",
    "\n",
    "class Solution:\n",
    "    def mergeTwoLists(self, list1: Optional[ListNode], list2: Optional[ListNode]) -> Optional[ListNode]:\n",
    "        result = ListNode()\n",
    "        current = result\n",
    "\n",
    "        while list1 is not None and list2 is not None:\n",
    "            if list1.val < list2.val:\n",
    "                current.next = list1\n",
    "                list1 = list1.next\n",
    "            else:\n",
    "                current.next = list2\n",
    "                list2 = list2.next\n",
    "            current = current.next\n",
    "\n",
    "        # Append any remaining nodes from either list\n",
    "        if list1 is not None:\n",
    "            current.next = list1\n",
    "        elif list2 is not None:\n",
    "            current.next = list2\n",
    "\n",
    "        return result.next"
   ]
  },
  {
   "cell_type": "markdown",
   "id": "56008290",
   "metadata": {},
   "source": [
    "## 11. Remove Duplicates from Sorted Array\n",
    "- Given an integer array nums sorted in non-decreasing order, remove the duplicates in-place such that each unique element appears only once. The relative order of the elements should be kept the same.\n",
    "\n",
    "- Consider the number of unique elements in nums to be k​​​​​​​​​​​​​​. After removing duplicates, return the number of unique elements k.\n",
    "\n",
    "- The first k elements of nums should contain the unique numbers in sorted order. The remaining elements beyond index k - 1 can be ignored.\n",
    "\n",
    "- Custom Judge:\n",
    "\n",
    "- The judge will test your solution with the following code:\n",
    "```\n",
    "int[] nums = [...]; // Input array\n",
    "int[] expectedNums = [...]; // The expected answer with correct length\n",
    "\n",
    "int k = removeDuplicates(nums); // Calls your implementation\n",
    "\n",
    "assert k == expectedNums.length;\n",
    "for (int i = 0; i < k; i++) {\n",
    "    assert nums[i] == expectedNums[i];\n",
    "}\n",
    "```\n",
    "- If all assertions pass, then your solution will be accepted.\n",
    "\n",
    "- Example 1:\n",
    "    - nput: nums = [1,1,2]\n",
    "    - utput: 2, nums = [1,2,_]\n",
    "    - xplanation: Your function should return k = 2, with the first two elements of nums being 1 and 2 respectively.\n",
    "It does not matter what you leave beyond the returned k (hence they are underscores).\n",
    "\n",
    "- Example 2:\n",
    "    - Input: nums = [0,0,1,1,1,2,2,3,3,4]\n",
    "    - Output: 5, nums = [0,1,2,3,4,_,_,_,_,_]\n",
    "    - Explanation: Your function should return k = 5, with the first five elements of nums being 0, 1, 2, 3, and 4 respectively.\n",
    "It does not matter what you leave beyond the returned k (hence they are underscores).\n",
    "\n",
    "- Constraints:\n",
    "    - 1 <= nums.length <= 3 * 104\n",
    "    - -100 <= nums[i] <= 100\n",
    "    - nums is sorted in non-decreasing order."
   ]
  },
  {
   "cell_type": "code",
   "execution_count": 29,
   "id": "dd199876",
   "metadata": {},
   "outputs": [],
   "source": [
    "class Solution:\n",
    "    def removeDuplicates(self, nums: List[int]) -> int:\n",
    "        k = 1\n",
    "\n",
    "        for i in range(1, len(nums)):\n",
    "            if nums[i] != nums[i - 1]:\n",
    "                nums[k] = nums[i]\n",
    "                k += 1\n",
    "        \n",
    "        return k"
   ]
  },
  {
   "cell_type": "markdown",
   "id": "1d7856e5",
   "metadata": {},
   "source": [
    "## 12. Remove Element\n",
    "- Given an integer array nums and an integer val, remove all occurrences of val in nums in-place. The order of the elements may be changed. Then return the number of elements in nums which are not equal to val.\n",
    "\n",
    "- Consider the number of elements in nums which are not equal to val be k, to get accepted, you need to do the following things:\n",
    "    - Change the array nums such that the first k elements of nums contain the elements which are not equal to val. The remaining elements of nums are not important as well as the size of nums.\n",
    "    - Return k.\n",
    "- Custom Judge:\n",
    "\n",
    "- The judge will test your solution with the following code:\n",
    "```\n",
    "int[] nums = [...]; // Input array\n",
    "int val = ...; // Value to remove\n",
    "int[] expectedNums = [...]; // The expected answer with correct length.\n",
    "                            // It is sorted with no values equaling val.\n",
    "\n",
    "int k = removeElement(nums, val); // Calls your implementation\n",
    "\n",
    "assert k == expectedNums.length;\n",
    "sort(nums, 0, k); // Sort the first k elements of nums\n",
    "for (int i = 0; i < actualLength; i++) {\n",
    "    assert nums[i] == expectedNums[i];\n",
    "}\n",
    "```\n",
    "- If all assertions pass, then your solution will be accepted.\n",
    "\n",
    " \n",
    "\n",
    "- Example 1:\n",
    "    - Input: nums = [3,2,2,3], val = 3\n",
    "    - Output: 2, nums = [2,2,_,_]\n",
    "    - Explanation: Your function should return k = 2, with the first two elements of nums being 2.\n",
    "It does not matter what you leave beyond the returned k (hence they are underscores).\n",
    "\n",
    "- Example 2:\n",
    "    - Input: nums = [0,1,2,2,3,0,4,2], val = 2\n",
    "    - Output: 5, nums = [0,1,4,0,3,_,_,_]\n",
    "    - Explanation: Your function should return k = 5, with the first five elements of nums containing 0, 0, 1, 3, and 4.\n",
    "Note that the five elements can be returned in any order.\n",
    "It does not matter what you leave beyond the returned k (hence they are underscores).\n",
    " \n",
    "\n",
    "- Constraints:\n",
    "    - 0 <= nums.length <= 100\n",
    "    - 0 <= nums[i] <= 50\n",
    "    - 0 <= val <= 100"
   ]
  },
  {
   "cell_type": "code",
   "execution_count": 30,
   "id": "0c7ee382",
   "metadata": {},
   "outputs": [],
   "source": [
    "class Solution:\n",
    "    def removeElement(self, nums: List[int], val: int) -> int:\n",
    "        k = 0\n",
    "        for i in range(len(nums)):\n",
    "            if nums[i] != val:\n",
    "                nums[k] = nums[i] # don't care about elements past k\n",
    "                k += 1\n",
    "        \n",
    "        return k"
   ]
  },
  {
   "cell_type": "code",
   "execution_count": 31,
   "id": "bbdb383c",
   "metadata": {},
   "outputs": [
    {
     "name": "stdout",
     "output_type": "stream",
     "text": [
      "5\n",
      "[0, 1, 3, 0, 4, 0, 4, 2]\n"
     ]
    }
   ],
   "source": [
    "sol = Solution()\n",
    "\n",
    "nums = [0,1,2,2,3,0,4,2]\n",
    "val = 2\n",
    "print(sol.removeElement(nums, val))\n",
    "print(nums)\n"
   ]
  },
  {
   "cell_type": "markdown",
   "id": "60b1a90b",
   "metadata": {},
   "source": [
    "## 13. Find the Index of the First Occurrence in a String\n",
    "- Given two strings needle and haystack, return the index of the first occurrence of needle in haystack, or -1 if needle is not part of haystack.\n",
    "\n",
    "- Example 1:\n",
    "    - Input: haystack = \"sadbutsad\", needle = \"sad\"\n",
    "    - Output: 0\n",
    "    - Explanation: \"sad\" occurs at index 0 and 6. The first occurrence is at index 0, so we return 0.\n",
    "\n",
    "- Example 2:\n",
    "    - Input: haystack = \"leetcode\", needle = \"leeto\"\n",
    "    - Output: -1\n",
    "    - Explanation: \"leeto\" did not occur in \"leetcode\", so we return -1.\n",
    " \n",
    "- Constraints:\n",
    "    - 1 <= haystack.length, needle.length <= 104\n",
    "    - haystack and needle consist of only lowercase English characters."
   ]
  },
  {
   "cell_type": "code",
   "execution_count": 32,
   "id": "346c2ae9",
   "metadata": {},
   "outputs": [],
   "source": [
    "class Solution:\n",
    "    def strStr(self, haystack: str, needle: str) -> int:\n",
    "        return haystack.find(needle)"
   ]
  },
  {
   "cell_type": "markdown",
   "id": "1988523d",
   "metadata": {},
   "source": [
    "## 14. Search Insert Position\n",
    "- Given a sorted array of distinct integers and a target value, return the index if the target is found. If not, return the index where it would be if it were inserted in order.\n",
    "\n",
    "- You must write an algorithm with O(log n) runtime complexity.\n",
    "\n",
    "- Example 1:\n",
    "    - Input: nums = [1,3,5,6], target = 5\n",
    "    - Output: 2\n",
    "\n",
    "- Example 2:\n",
    "    - Input: nums = [1,3,5,6], target = 2\n",
    "    - Output: 1\n",
    "\n",
    "- Example 3:\n",
    "    - Input: nums = [1,3,5,6], target = 7\n",
    "    - Output: 4\n",
    " \n",
    "\n",
    "- Constraints:\n",
    "    - 1 <= nums.length <= 104\n",
    "    - -104 <= nums[i] <= 104\n",
    "    - nums contains distinct values sorted in ascending order.\n",
    "    - -104 <= target <= 104"
   ]
  },
  {
   "cell_type": "code",
   "execution_count": 38,
   "id": "da2d9abb",
   "metadata": {},
   "outputs": [],
   "source": [
    "class Solution:\n",
    "    def searchInsert(self, nums: List[int], target: int) -> int:\n",
    "        low = 0\n",
    "        high = len(nums) - 1\n",
    "\n",
    "        while low <= high:\n",
    "            mid = low + (high - low) // 2\n",
    "\n",
    "            if nums[mid] == target:\n",
    "                return mid\n",
    "            elif nums[mid] < target:\n",
    "                low = mid + 1\n",
    "            else:\n",
    "                high = mid - 1\n",
    "        \n",
    "        return low"
   ]
  },
  {
   "cell_type": "code",
   "execution_count": 39,
   "id": "ea5f4257",
   "metadata": {},
   "outputs": [
    {
     "name": "stdout",
     "output_type": "stream",
     "text": [
      "2\n",
      "1\n"
     ]
    }
   ],
   "source": [
    "sol = Solution()\n",
    "\n",
    "input = [1, 3, 5, 6]\n",
    "target = 5\n",
    "print(sol.searchInsert(input, target))\n",
    "\n",
    "target2 = 2\n",
    "print(sol.searchInsert(input, target2))"
   ]
  },
  {
   "cell_type": "markdown",
   "id": "766a0c92",
   "metadata": {},
   "source": [
    "## 15. Length of Last Word\n",
    "\n",
    "- Given a string s consisting of words and spaces, return the length of the last word in the string.\n",
    "- A word is a maximal substring consisting of non-space characters only.\n",
    "\n",
    "\n",
    "- Example 1:\n",
    "    - Input: s = \"Hello World\"\n",
    "    - Output: 5\n",
    "    - Explanation: The last word is \"World\" with length 5.\n",
    "\n",
    "- Example 2:\n",
    "    - Input: s = \"   fly me   to   the moon  \"\n",
    "    - Output: 4\n",
    "    - Explanation: The last word is \"moon\" with length 4.\n",
    "\n",
    "- Example 3:\n",
    "    - Input: s = \"luffy is still joyboy\"\n",
    "    - Output: 6\n",
    "    - Explanation: The last word is \"joyboy\" with length 6.\n",
    " \n",
    "- Constraints:\n",
    "    - 1 <= s.length <= 104\n",
    "    - s consists of only English letters and spaces ' '.\n",
    "    - There will be at least one word in s."
   ]
  },
  {
   "cell_type": "code",
   "execution_count": 42,
   "id": "bc0e2307",
   "metadata": {},
   "outputs": [],
   "source": [
    "class Solution:\n",
    "    def lengthOfLastWord(self, s: str) -> int:\n",
    "        return len(s.split()[-1])"
   ]
  },
  {
   "cell_type": "code",
   "execution_count": 43,
   "id": "5e44433d",
   "metadata": {},
   "outputs": [
    {
     "name": "stdout",
     "output_type": "stream",
     "text": [
      "5\n"
     ]
    }
   ],
   "source": [
    "sol = Solution()\n",
    "\n",
    "s = \"Hello World\"\n",
    "print(sol.lengthOfLastWord(s))"
   ]
  },
  {
   "cell_type": "markdown",
   "id": "aab41801",
   "metadata": {},
   "source": [
    "## 16. Plus One\n",
    "- You are given a large integer represented as an integer array digits, where each digits[i] is the ith digit of the integer. The digits are ordered from most significant to least significant in left-to-right order. The large integer does not contain any leading 0's.\n",
    "- Increment the large integer by one and return the resulting array of digits.\n",
    "\n",
    "\n",
    "- Example 1:\n",
    "    - Input: digits = [1,2,3]\n",
    "    - Output: [1,2,4]\n",
    "    - Explanation: The array represents the integer 123.\n",
    "    - Incrementing by one gives 123 + 1 = 124. Thus, the result should be [1,2,4].\n",
    "\n",
    "- Example 2:\n",
    "    - Input: digits = [4,3,2,1]\n",
    "    - Output: [4,3,2,2]\n",
    "    - Explanation: The array represents the integer 4321.\n",
    "    - Incrementing by one gives 4321 + 1 = 4322. Thus, the result should be [4,3,2,2].\n",
    "\n",
    "- Example 3:\n",
    "    - Input: digits = [9]\n",
    "    - Output: [1,0]\n",
    "    - Explanation: The array represents the integer 9. Incrementing by one gives 9 + 1 = 10. Thus, the result should be [1,0].\n",
    " \n",
    "\n",
    "- Constraints:\n",
    "    - 1 <= digits.length <= 100\n",
    "    - 0 <= digits[i] <= 9\n",
    "    - digits does not contain any leading 0's."
   ]
  },
  {
   "cell_type": "code",
   "execution_count": null,
   "id": "ff646f3c",
   "metadata": {},
   "outputs": [],
   "source": [
    "class Solution:\n",
    "    def plusOne(self, digits: List[int]) -> List[int]:\n",
    "        for i in range(len(digits) - 1, -1, -1): # The key is to loop backwards\n",
    "            if digits[i] < 9:\n",
    "                digits[i] += 1\n",
    "                return digits\n",
    "            else:\n",
    "                digits[i] = 0\n",
    "        return [1] + digits # add a 1 at the beginning\n"
   ]
  },
  {
   "cell_type": "markdown",
   "id": "48c79658",
   "metadata": {},
   "source": [
    "## 17. Add Binary\n",
    "- Given two binary strings a and b, return their sum as a binary string.\n",
    "\n",
    "\n",
    "- Example 1:\n",
    "    - Input: a = \"11\", b = \"1\"\n",
    "    - Output: \"100\"\n",
    "\n",
    "- Example 2:\n",
    "    - Input: a = \"1010\", b = \"1011\"\n",
    "    - Output: \"10101\"\n",
    " \n",
    "\n",
    "- Constraints:\n",
    "    - 1 <= a.length, b.length <= 104\n",
    "    - a and b consist only of '0' or '1' characters.\n",
    "    - Each string does not contain leading zeros except for the zero itself."
   ]
  },
  {
   "cell_type": "code",
   "execution_count": 54,
   "id": "a31002aa",
   "metadata": {},
   "outputs": [],
   "source": [
    "class Solution:\n",
    "    def addBinary(self, a: str, b: str) -> str:\n",
    "        return bin(int(a, 2) + int(b, 2))[2:]"
   ]
  },
  {
   "cell_type": "code",
   "execution_count": 55,
   "id": "aac2f493",
   "metadata": {},
   "outputs": [
    {
     "name": "stdout",
     "output_type": "stream",
     "text": [
      "100\n"
     ]
    }
   ],
   "source": [
    "sol = Solution()\n",
    "\n",
    "a = \"11\"\n",
    "b = \"1\"\n",
    "print(sol.addBinary(a, b))"
   ]
  },
  {
   "cell_type": "markdown",
   "id": "6c367653",
   "metadata": {},
   "source": [
    "## 18. Sqrt(x)\n",
    "- Given a non-negative integer x, return the square root of x rounded down to the nearest integer. The returned integer should be non-negative as well.\n",
    "- You must not use any built-in exponent function or operator.\n",
    "    - For example, do not use pow(x, 0.5) in c++ or x ** 0.5 in python.\n",
    "\n",
    "- Example 1:\n",
    "    - Input: x = 4\n",
    "    - Output: 2\n",
    "    - Explanation: The square root of 4 is 2, so we return 2.\n",
    "\n",
    "- Example 2:\n",
    "    - Input: x = 8\n",
    "    - Output: 2\n",
    "    - Explanation: The square root of 8 is 2.82842..., and since we round it down to the nearest integer, 2 is returned.\n",
    " \n",
    "\n",
    "- Constraints:\n",
    "    - 0 <= x <= 231 - 1"
   ]
  },
  {
   "cell_type": "code",
   "execution_count": 64,
   "id": "5df05c8f",
   "metadata": {},
   "outputs": [],
   "source": [
    "class Solution:\n",
    "    def mySqrt(self, x: int) -> int:\n",
    "        if x < 2:\n",
    "            return x\n",
    "        \n",
    "        left = 1\n",
    "        right = x // 2\n",
    "        ans = 0\n",
    "\n",
    "        while left <= right:\n",
    "            mid = left + (right - left) // 2\n",
    "            square = mid * mid\n",
    "\n",
    "            if square == x:\n",
    "                return mid\n",
    "            elif square < x:\n",
    "                ans = mid\n",
    "                left = mid + 1\n",
    "            else:\n",
    "                right = mid -1\n",
    "        return ans"
   ]
  },
  {
   "cell_type": "code",
   "execution_count": 66,
   "id": "ed11b281",
   "metadata": {},
   "outputs": [
    {
     "name": "stdout",
     "output_type": "stream",
     "text": [
      "2\n",
      "2\n",
      "7\n"
     ]
    }
   ],
   "source": [
    "sol = Solution()\n",
    "\n",
    "print(sol.mySqrt(4))\n",
    "print(sol.mySqrt(8))\n",
    "print(sol.mySqrt(49))"
   ]
  },
  {
   "cell_type": "markdown",
   "id": "48fe1d65",
   "metadata": {},
   "source": [
    "## 19. Climbing Stairs\n",
    "- You are climbing a staircase. It takes n steps to reach the top.\n",
    "- Each time you can either climb 1 or 2 steps. In how many distinct ways can you climb to the top?\n",
    "\n",
    "- Example 1:\n",
    "    - Input: n = 2\n",
    "    - Output: 2\n",
    "    - Explanation: There are two ways to climb to the top. 1. 1 step + 1 step 2. 2 steps\n",
    "\n",
    "- Example 2:\n",
    "    - Input: n = 3\n",
    "    - Output: 3\n",
    "    - Explanation: There are three ways to climb to the top. 1. 1 step + 1 step + 1 step 2. 1 step + 2 steps 3. 2 steps + 1 step\n",
    " \n",
    "\n",
    "- Constraints:\n",
    "    - 1 <= n <= 45"
   ]
  },
  {
   "cell_type": "code",
   "execution_count": 67,
   "id": "6796403d",
   "metadata": {},
   "outputs": [],
   "source": [
    "# dynamic programmings\n",
    "# Combinatorics\n",
    "# fibonacci sequence\n",
    "class Solution: \n",
    "    def climbStairs(self, n: int) -> int:\n",
    "        if n <= 2:\n",
    "            return n\n",
    "        \n",
    "        ways_back_one = 2\n",
    "        ways_back_two = 1\n",
    "\n",
    "        for i in range(3, n + 1):\n",
    "            current_ways = ways_back_one + ways_back_two\n",
    "            ways_back_two = ways_back_one\n",
    "            ways_back_one = current_ways\n",
    "\n",
    "        return ways_back_one"
   ]
  },
  {
   "cell_type": "markdown",
   "id": "6c8117c6",
   "metadata": {},
   "source": [
    "## 20. Remove Duplicates from Sorted List\n",
    "\n",
    "- Given the head of a sorted linked list, delete all duplicates such that each element appears only once. Return the linked list sorted as well.\n",
    "\n",
    "- Example 1:\n",
    "    - Input: head = [1,1,2]\n",
    "    - Output: [1,2]\n",
    "- Example 2:\n",
    "    - head = [1,1,2,3,3]\n",
    "    - [1,2,3]\n",
    "- Constraints:\n",
    "    - The number of nodes in the list is in the range [0, 300].\n",
    "    - -100 <= Node.val <= 100\n",
    "    - The list is guaranteed to be sorted in ascending order."
   ]
  },
  {
   "cell_type": "code",
   "execution_count": 68,
   "id": "d35ef88c",
   "metadata": {},
   "outputs": [],
   "source": [
    "# Definition for singly-linked list.\n",
    "class ListNode:\n",
    "    def __init__(self, val=0, next=None):\n",
    "        self.val = val\n",
    "        self.next = next\n",
    "\n",
    "class Solution:\n",
    "    def deleteDuplicates(self, head: Optional[ListNode]) -> Optional[ListNode]:\n",
    "\n",
    "        if not head:\n",
    "            return head\n",
    "\n",
    "        current = head\n",
    "        while current is not None and current.next is not None:\n",
    "            if current.val == current.next.val:\n",
    "                current.next = current.next.next\n",
    "            else:\n",
    "                current = current.next\n",
    "\n",
    "        return head"
   ]
  },
  {
   "cell_type": "markdown",
   "id": "84cbcba1",
   "metadata": {},
   "source": [
    "## 21. Merge Sorted Array\n",
    "- You are given two integer arrays nums1 and nums2, sorted in non-decreasing order, and two integers m and n, representing the number of elements in nums1 and nums2 respectively.\n",
    "\n",
    "- Merge nums1 and nums2 into a single array sorted in non-decreasing order.\n",
    "\n",
    "- The final sorted array should not be returned by the function, but instead be stored inside the array nums1. To accommodate this, nums1 has a length of m + n, where the first m elements denote the elements that should be merged, and the last n elements are set to 0 and should be ignored. nums2 has a length of n.\n",
    "\n",
    "\n",
    "\n",
    "- Example 1:\n",
    "    - Input: nums1 = [1,2,3,0,0,0], m = 3, nums2 = [2,5,6], n = 3\n",
    "    - Output: [1,2,2,3,5,6]\n",
    "    - Explanation: The arrays we are merging are [1,2,3] and [2,5,6]. The result of the merge is [1,2,2,3,5,6] with the underlined elements coming from nums1.\n",
    "\n",
    "- Example 2:\n",
    "    - Input: nums1 = [1], m = 1, nums2 = [], n = 0\n",
    "    - Output: [1]\n",
    "    - Explanation: The arrays we are merging are [1] and []. The result of the merge is [1].\n",
    "\n",
    "- xample 3:\n",
    "    - Input: nums1 = [0], m = 0, nums2 = [1], n = 1\n",
    "    - Output: [1]\n",
    "    - Explanation: The arrays we are merging are [] and [1]. The result of the merge is [1].\n",
    "- Note that because m = 0, there are no elements in nums1. The 0 is only there to ensure the merge result can fit in nums1.\n",
    "\n",
    "- Constraints:\n",
    "    - nums1.length == m + n\n",
    "    - nums2.length == n\n",
    "    - 0 <= m, n <= 200\n",
    "    - 1 <= m + n <= 200\n",
    "    - -109 <= nums1[i], nums2[j] <= 109\n",
    " "
   ]
  },
  {
   "cell_type": "code",
   "execution_count": 69,
   "id": "82970b30",
   "metadata": {},
   "outputs": [],
   "source": [
    "class Solution:\n",
    "    def merge(self, nums1: List[int], m: int, nums2: List[int], n: int) -> None:\n",
    "        \"\"\"\n",
    "        Do not return anything, modify nums1 in-place instead.\n",
    "        \"\"\"\n",
    "        nums1_index = m - 1\n",
    "        nums2_index = n - 1\n",
    "        merged_index = m + n - 1\n",
    "\n",
    "        # could go the for loop instead but there are too many nested ifs.\n",
    "        # better to go with a while loop\n",
    "        while nums1_index >= 0 and nums2_index >= 0:\n",
    "            if nums1[nums1_index] > nums2[nums2_index]:\n",
    "                nums1[merged_index] = nums1[nums1_index]\n",
    "                nums1_index -= 1\n",
    "            else:\n",
    "                nums1[merged_index] = nums2[nums2_index]\n",
    "                nums2_index -= 1\n",
    "\n",
    "            merged_index -= 1\n",
    "        \n",
    "\n",
    "        while nums2_index >= 0:\n",
    "            nums1[merged_index] = nums2[nums2_index]\n",
    "            nums2_index -= 1\n",
    "            merged_index -= 1\n",
    "        "
   ]
  },
  {
   "cell_type": "markdown",
   "id": "b98c1273",
   "metadata": {},
   "source": [
    "## 22. Binary Tree Inorder Traversal\n",
    "- Given the root of a binary tree, return the inorder traversal of its nodes' values.\n",
    "- Example 1:\n",
    "    - Input: root = [1,null,2,3]\n",
    "    - Output: [1,3,2]\n",
    "\n",
    "- Example 2:\n",
    "    - Input: root = [1,2,3,4,5,null,8,null,null,6,7,9]\n",
    "    - Output: [4,2,6,5,7,1,3,9,8]\n",
    "\n",
    "- Example 3:\n",
    "    - Input: root = []\n",
    "    - Output: []\n",
    "\n",
    "- Example 4:\n",
    "    - Input: root = [1]\n",
    "    - Output: [1]\n",
    "\n",
    "- Constraints:\n",
    "    - The number of nodes in the tree is in the range [0, 100].\n",
    "    - -100 <= Node.val <= 100"
   ]
  },
  {
   "cell_type": "code",
   "execution_count": 70,
   "id": "4a42c698",
   "metadata": {},
   "outputs": [],
   "source": [
    "# Definition for a binary tree node.\n",
    "class TreeNode:\n",
    "    def __init__(self, val=0, left=None, right=None):\n",
    "        self.val = val\n",
    "        self.left = left\n",
    "        self.right = right\n",
    "\n",
    "class Solution:\n",
    "    def inorderTraversal(self, root: Optional[TreeNode]) -> List[int]:\n",
    "        result = []\n",
    "        stack = []\n",
    "        current = root\n",
    "\n",
    "        while current or stack:\n",
    "            # keep getting all the left most one first, dfs\n",
    "            while current:\n",
    "                stack.append(current)\n",
    "                current = current.left\n",
    "            \n",
    "            current = stack.pop()\n",
    "            result.append(current.val)\n",
    "            # now go to the right\n",
    "            current = current.right\n",
    "        \n",
    "        return result\n",
    "        "
   ]
  },
  {
   "cell_type": "markdown",
   "id": "640e86eb",
   "metadata": {},
   "source": [
    "## 23. Same Tree\n",
    "\n",
    "- Given the roots of two binary trees p and q, write a function to check if they are the same or not.\n",
    "- Two binary trees are considered the same if they are structurally identical, and the nodes have the same value.\n",
    "\n",
    "- Example 1:\n",
    "    - Input: p = [1,2,3], q = [1,2,3]\n",
    "    - Output: true\n",
    "\n",
    "- Example 2:\n",
    "    - Input: p = [1,2], q = [1,null,2]\n",
    "    - Output: false\n",
    "\n",
    "- Example 3:\n",
    "    - Input: p = [1,2,1], q = [1,1,2]\n",
    "    - Output: false\n",
    "\n",
    "- Constraints:\n",
    "    - The number of nodes in both trees is in the range [0, 100].\n",
    "    - -104 <= Node.val <= 104"
   ]
  },
  {
   "cell_type": "code",
   "execution_count": 71,
   "id": "ec5fee79",
   "metadata": {},
   "outputs": [],
   "source": [
    "# Definition for a binary tree node.\n",
    "class TreeNode:\n",
    "    def __init__(self, val=0, left=None, right=None):\n",
    "        self.val = val\n",
    "        self.left = left\n",
    "        self.right = right\n",
    "class Solution:\n",
    "    def isSameTree(self, p: Optional[TreeNode], q: Optional[TreeNode]) -> bool:\n",
    "        stack = [(p, q)]\n",
    "\n",
    "        while stack:\n",
    "            node_p, node_q = stack.pop()\n",
    "\n",
    "            # Base cases for comparison\n",
    "            if not node_p and not node_q:  # Both are None, identical\n",
    "                continue\n",
    "            if not node_p or not node_q:  # One is None, the other is not, not identical\n",
    "                return False\n",
    "            if node_p.val != node_q.val:  # Values differ, not identical\n",
    "                return False\n",
    "\n",
    "            # Push children onto the stack for further comparison\n",
    "            stack.append((node_p.right, node_q.right))\n",
    "            stack.append((node_p.left, node_q.left))\n",
    "    \n",
    "        return True\n",
    "        "
   ]
  },
  {
   "cell_type": "markdown",
   "id": "125fe956",
   "metadata": {},
   "source": [
    "## 24. Symmetric Tree\n",
    "\n",
    "- Given the root of a binary tree, check whether it is a mirror of itself (i.e., symmetric around its center).\n",
    "\n",
    "- Example 1:\n",
    "    - Input: root = [1,2,2,3,4,4,3]\n",
    "    - Output: true\n",
    "\n",
    "- Example 2:\n",
    "    - Input: root = [1,2,2,null,3,null,3]\n",
    "    - Output: false\n",
    "\n",
    "- Constraints:\n",
    "    - The number of nodes in the tree is in the range [1, 1000].\n",
    "    - -100 <= Node.val <= 100\n",
    " "
   ]
  },
  {
   "cell_type": "code",
   "execution_count": 72,
   "id": "4800dc4b",
   "metadata": {},
   "outputs": [],
   "source": [
    "from collections import deque\n",
    "\n",
    "# Definition for a binary tree node.\n",
    "class TreeNode:\n",
    "    def __init__(self, val=0, left=None, right=None):\n",
    "        self.val = val\n",
    "        self.left = left\n",
    "        self.right = right\n",
    "class Solution:\n",
    "    def isSymmetric(self, root: Optional[TreeNode]) -> bool:\n",
    "        # bfs.\n",
    "        # base case where no root, it is symmetric\n",
    "        if not root:\n",
    "            return True\n",
    "        \n",
    "        queue = deque([(root.left, root.right)])\n",
    "\n",
    "        while queue:\n",
    "            node1, node2 = queue.popleft()\n",
    "\n",
    "            if not node1 and not node2:\n",
    "                continue\n",
    "            \n",
    "            # case 1: where there is one but not the other\n",
    "            # case 2: their vals are different.\n",
    "            if not node1 or not node2 or node1.val != node2.val:\n",
    "                return False\n",
    "\n",
    "            # add the the queue the opposite value for symmetry\n",
    "            queue.append((node1.left, node2.right))\n",
    "            queue.append((node1.right, node2.left))\n",
    "\n",
    "        return True\n"
   ]
  },
  {
   "cell_type": "markdown",
   "id": "c2a44b73",
   "metadata": {},
   "source": [
    "## 25. Maximum Depth of Binary Tree\n",
    "\n",
    "- Given the root of a binary tree, return its maximum depth.\n",
    "\n",
    "- A binary tree's maximum depth is the number of nodes along the longest path from the root node down to the farthest leaf node.\n",
    "\n",
    "- Example 1:\n",
    "    - Input: root = [3,9,20,null,null,15,7]\n",
    "    - Output: 3\n",
    "\n",
    "- Example 2:\n",
    "    - Input: root = [1,null,2]\n",
    "    - Output: 2\n",
    "\n",
    "- Constraints:\n",
    "    - The number of nodes in the tree is in the range [0, 104].\n",
    "    - -100 <= Node.val <= 100"
   ]
  },
  {
   "cell_type": "code",
   "execution_count": 73,
   "id": "06f18694",
   "metadata": {},
   "outputs": [],
   "source": [
    "from collections import deque\n",
    "\n",
    "# Definition for a binary tree node.\n",
    "class TreeNode:\n",
    "    def __init__(self, val=0, left=None, right=None):\n",
    "        self.val = val\n",
    "        self.left = left\n",
    "        self.right = right\n",
    "class Solution:\n",
    "    def maxDepth(self, root: Optional[TreeNode]) -> int:\n",
    "        if not root:\n",
    "            return 0\n",
    "        \n",
    "        queue = deque([(root, 1)])\n",
    "        max_depth = 0\n",
    "\n",
    "        while queue:\n",
    "            current_node, depth = queue.popleft()\n",
    "            max_depth = max(max_depth, depth)\n",
    "\n",
    "            if current_node.left:\n",
    "                queue.append((current_node.left, depth + 1))\n",
    "            if current_node.right:\n",
    "                queue.append((current_node.right, depth + 1))\n",
    "        \n",
    "        return max_depth\n"
   ]
  },
  {
   "cell_type": "markdown",
   "id": "a157737e",
   "metadata": {},
   "source": [
    "# Questions #26-50"
   ]
  },
  {
   "cell_type": "markdown",
   "id": "0f6e1f2f",
   "metadata": {},
   "source": [
    "## 26. Convert Sorted Array to Binary Search Tree\n",
    "\n",
    "- Given an integer array nums where the elements are sorted in ascending order, convert it to a height-balanced binary search tree.\n",
    "\n",
    "- Example 1:\n",
    "    - Input: nums = [-10,-3,0,5,9]\n",
    "    - Output: [0,-3,9,-10,null,5]\n",
    "    - Explanation: [0,-10,5,null,-3,null,9] is also accepted:\n",
    "\n",
    "- Example 2:\n",
    "    - Input: nums = [1,3]\n",
    "    - Output: [3,1]\n",
    "    - Explanation: [1,null,3] and [3,1] are both height-balanced BSTs.\n",
    "\n",
    "- Constraints:\n",
    "    - 1 <= nums.length <= 104\n",
    "    - -104 <= nums[i] <= 104\n",
    "    - nums is sorted in a strictly increasing order."
   ]
  },
  {
   "cell_type": "code",
   "execution_count": 74,
   "id": "fc47eba9",
   "metadata": {},
   "outputs": [],
   "source": [
    "# Definition for a binary tree node.\n",
    "class TreeNode:\n",
    "    def __init__(self, val=0, left=None, right=None):\n",
    "        self.val = val\n",
    "        self.left = left\n",
    "        self.right = right\n",
    "class Solution:\n",
    "    def sortedArrayToBST(self, nums: List[int]) -> Optional[TreeNode]:\n",
    "        if not nums:\n",
    "            return None\n",
    "        \n",
    "        stack = []\n",
    "\n",
    "        mid = len(nums) // 2\n",
    "        root = TreeNode(nums[mid])\n",
    "        # add parent, left, right, is_left_child\n",
    "        stack.append((root, 0, mid - 1, True))\n",
    "        stack.append((root, mid + 1, len(nums) - 1, False))\n",
    "\n",
    "        while stack:\n",
    "            parent, left, right, is_left_child = stack.pop()\n",
    "\n",
    "            if left <= right:\n",
    "                child_mid = left + (right - left) // 2\n",
    "                child_node = TreeNode(nums[child_mid])\n",
    "\n",
    "                if is_left_child:\n",
    "                    parent.left = child_node\n",
    "                else:\n",
    "                    parent.right = child_node\n",
    "\n",
    "                stack.append((child_node, left, child_mid - 1, True))\n",
    "                stack.append((child_node, child_mid + 1, right, False))\n",
    "\n",
    "        return root\n"
   ]
  },
  {
   "cell_type": "markdown",
   "id": "20bf81ce",
   "metadata": {},
   "source": [
    "## 27. Balanced Binary Tree\n",
    "\n",
    "- Given a binary tree, determine if it is height-balanced.\n",
    "\n",
    "- Example 1:\n",
    "    - Input: root = [3,9,20,null,null,15,7]\n",
    "    - Output: true\n",
    "\n",
    "- Example 2:\n",
    "    - Input: root = [1, 2, 2, 3, 3, null, null, 4, 4]\n",
    "    - Output: false\n",
    "\n",
    "- Example 3:\n",
    "    - Input: root = []\n",
    "    - Output: true\n",
    "\n",
    "- Constraints:\n",
    "    - The number of nodes in the tree is in the range [0, 5000].\n",
    "    - -104 <= Node.val <= 104"
   ]
  },
  {
   "cell_type": "code",
   "execution_count": null,
   "id": "cd2d2437",
   "metadata": {},
   "outputs": [],
   "source": [
    "# Definition for a binary tree node.\n",
    "class TreeNode:\n",
    "    def __init__(self, val=0, left=None, right=None):\n",
    "        self.val = val\n",
    "        self.left = left\n",
    "        self.right = right\n",
    "\n",
    "\n",
    "class Solution:\n",
    "    def isBalanced(self, root: Optional[TreeNode]) -> bool:\n",
    "        # height = log(n)\n",
    "        if not root:\n",
    "            return True\n",
    "        \n",
    "        height = {}\n",
    "        stack = [(root, False)] # node and if visited\n",
    "\n",
    "        while stack:\n",
    "            node, visited_children = stack[-1]\n",
    "\n",
    "            if visited_children:\n",
    "                stack.pop()\n",
    "                left_height = height.get(node.left, 0)\n",
    "                right_height = height.get(node.right, 0)\n",
    "\n",
    "                if abs(left_height - right_height) > 1:\n",
    "                    return False\n",
    "                \n",
    "                height[node] = 1 + max(left_height, right_height)\n",
    "            else:\n",
    "                stack[-1] = (node, True)\n",
    "                if node.right:\n",
    "                    stack.append((node.right, False))\n",
    "                if node.left:\n",
    "                    stack.append((node.left, False))\n",
    "        return True"
   ]
  },
  {
   "cell_type": "markdown",
   "id": "5543edff",
   "metadata": {},
   "source": [
    "## 28. Minimum Depth of Binary Tree\n",
    "\n",
    "- Given a binary tree, find its minimum depth.\n",
    "\n",
    "- The minimum depth is the number of nodes along the shortest path from the root node down to the nearest leaf node.\n",
    "\n",
    "- Note: A leaf is a node with no children.\n",
    "\n",
    "- Example 1:\n",
    "    - Input: root = [3,9,20,null,null,15,7]\n",
    "    - Output: 2\n",
    "\n",
    "- Example 2:\n",
    "    - Input: root = [2,null,3,null,4,null,5,null,6]\n",
    "    - Output: 5\n",
    "\n",
    "- Constraints:\n",
    "    - The number of nodes in the tree is in the range [0, 105].\n",
    "    - -1000 <= Node.val <= 1000"
   ]
  },
  {
   "cell_type": "code",
   "execution_count": null,
   "id": "6aac3d56",
   "metadata": {},
   "outputs": [],
   "source": [
    "# Definition for a binary tree node.\n",
    "class TreeNode:\n",
    "    def __init__(self, val=0, left=None, right=None):\n",
    "        self.val = val\n",
    "        self.left = left\n",
    "        self.right = right\n",
    "class Solution:\n",
    "    def minDepth(self, root: Optional[TreeNode]) -> int:\n",
    "        "
   ]
  },
  {
   "cell_type": "markdown",
   "id": "2a62dc67",
   "metadata": {},
   "source": [
    "## 29. Path Sum\n",
    "- Given the root of a binary tree and an integer targetSum, return true if the tree has a root-to-leaf path such that adding up all the values along the path equals targetSum.\n",
    "\n",
    "- A leaf is a node with no children.\n",
    "\n",
    "- Example 1:\n",
    "    - Input: root = [5,4,8,11,null,13,4,7,2,null,null,null,1], targetSum = 22\n",
    "    - Output: true\n",
    "    - Explanation: The root-to-leaf path with the target sum is shown.\n",
    "\n",
    "- Example 2:\n",
    "    - Input: root = [1,2,3], targetSum = 5\n",
    "    - Output: false\n",
    "    - Explanation: There are two root-to-leaf paths in the tree:\n",
    "    - (1 --> 2): The sum is 3.\n",
    "    - (1 --> 3): The sum is 4.\n",
    "    - There is no root-to-leaf path with sum = 5.\n",
    "\n",
    "- Example 3:\n",
    "    - Input: root = [], targetSum = 0\n",
    "    - Output: false\n",
    "    - Explanation: Since the tree is empty, there are no root-to-leaf paths.\n",
    " \n",
    "\n",
    "- Constraints:\n",
    "    - The number of nodes in the tree is in the range [0, 5000].\n",
    "    - -1000 <= Node.val <= 1000\n",
    "    - -1000 <= targetSum <= 1000"
   ]
  },
  {
   "cell_type": "code",
   "execution_count": 77,
   "id": "f70fa17c",
   "metadata": {},
   "outputs": [],
   "source": [
    "# Definition for a binary tree node.\n",
    "class TreeNode:\n",
    "    def __init__(self, val=0, left=None, right=None):\n",
    "        self.val = val\n",
    "        self.left = left\n",
    "        self.right = right\n",
    "class Solution:\n",
    "    def hasPathSum(self, root: Optional[TreeNode], targetSum: int) -> bool:\n",
    "        if not root:\n",
    "            return False\n",
    "\n",
    "        stack = [(root, root.val)] # node and all values in path\n",
    "\n",
    "\n",
    "        while stack:\n",
    "            current_node, current_sum = stack.pop()\n",
    "\n",
    "            if not current_node.left and not current_node.right and current_sum == targetSum:\n",
    "                    return True\n",
    "            \n",
    "            if current_node.right:\n",
    "                # add each value along a path\n",
    "                stack.append((current_node.right, current_sum + current_node.right.val))\n",
    "            if current_node.left:\n",
    "                stack.append((current_node.left, current_sum + current_node.left.val))\n",
    "        \n",
    "        return False\n",
    "\n",
    "        \n"
   ]
  },
  {
   "cell_type": "markdown",
   "id": "be8dcd9f",
   "metadata": {},
   "source": [
    "## 30.  Pascal's Triangle\n",
    "- Given an integer numRows, return the first numRows of Pascal's triangle.\n",
    "\n",
    "- In Pascal's triangle, each number is the sum of the two numbers directly above it as shown:\n",
    "\n",
    "- Example 1:\n",
    "    - Input: numRows = 5\n",
    "    - Output: [[1],[1,1],[1,2,1],[1,3,3,1],[1,4,6,4,1]]\n",
    "\n",
    "- Example 2:\n",
    "    - Input: numRows = 1\n",
    "    - Output: [[1]]\n",
    " \n",
    "\n",
    "- Constraints:\n",
    "    - 1 <= numRows <= 30"
   ]
  },
  {
   "cell_type": "code",
   "execution_count": 83,
   "id": "f9d07bb9",
   "metadata": {},
   "outputs": [
    {
     "name": "stdout",
     "output_type": "stream",
     "text": [
      "[[1], [1, 1], [1, 2, 1]]\n"
     ]
    }
   ],
   "source": [
    "class Solution:\n",
    "    def generate(self, numRows: int) -> List[List[int]]:\n",
    "        if numRows <= 0:\n",
    "            return []\n",
    "        \n",
    "        triangle = [[1]]\n",
    "\n",
    "        for i in range(1, numRows):\n",
    "            prev_row = triangle[i - 1]\n",
    "            current_row = [1]\n",
    "\n",
    "            for j in range(len(prev_row) - 1):\n",
    "                current_row.append(prev_row[j] + prev_row[j + 1])\n",
    "            \n",
    "\n",
    "            current_row.append(1)\n",
    "            triangle.append(current_row)\n",
    "\n",
    "        return triangle\n",
    "\n",
    "sol = Solution()\n",
    "\n",
    "input = 3\n",
    "print(sol.generate(input))\n",
    "        "
   ]
  },
  {
   "cell_type": "markdown",
   "id": "2c1e3708",
   "metadata": {},
   "source": [
    "## 31. Pascal's Triangle II\n",
    "\n",
    "- Given an integer rowIndex, return the rowIndexth (0-indexed) row of the Pascal's triangle.\n",
    "- In Pascal's triangle, each number is the sum of the two numbers directly above it as shown:\n",
    "\n",
    "- Example 1:\n",
    "    - Input: rowIndex = 3\n",
    "    - Output: [1,3,3,1]\n",
    "\n",
    "- Example 2:\n",
    "    - Input: rowIndex = 0\n",
    "    - Output: [1]\n",
    "\n",
    "- Example 3:\n",
    "    - Input: rowIndex = 1\n",
    "    - Output: [1,1]\n",
    " \n",
    "\n",
    "- Constraints:\n",
    "    - 0 <= rowIndex <= 33"
   ]
  },
  {
   "cell_type": "code",
   "execution_count": 90,
   "id": "cc4db803",
   "metadata": {},
   "outputs": [
    {
     "name": "stdout",
     "output_type": "stream",
     "text": [
      "[1, 3, 3, 1]\n"
     ]
    }
   ],
   "source": [
    "class Solution:\n",
    "    def getRow(self, rowIndex: int) -> List[int]:\n",
    "        if rowIndex < 0:\n",
    "            return []\n",
    "        \n",
    "        if rowIndex == 0:\n",
    "            return [1]\n",
    "\n",
    "        prev_row = [1]\n",
    "\n",
    "        for i in range(1, rowIndex + 1):\n",
    "            current_row = [1]\n",
    "\n",
    "            for j in range(len(prev_row) - 1):\n",
    "                current_row.append(prev_row[j] + prev_row[j + 1])\n",
    "            \n",
    "\n",
    "            current_row.append(1)\n",
    "            prev_row = current_row\n",
    "\n",
    "        return prev_row\n",
    "\n",
    "\n",
    "sol = Solution()\n",
    "\n",
    "input = 3\n",
    "print(sol.getRow(input))\n"
   ]
  },
  {
   "cell_type": "markdown",
   "id": "3470fcac",
   "metadata": {},
   "source": [
    "## 32. Best Time to Buy and Sell Stock\n",
    "- You are given an array prices where prices[i] is the price of a given stock on the ith day.\n",
    "- You want to maximize your profit by choosing a single day to buy one stock and choosing a different day in the future to sell that stock.\n",
    "\n",
    "- Return the maximum profit you can achieve from this transaction. If you cannot achieve any profit, return 0.\n",
    "\n",
    "\n",
    "- Example 1:\n",
    "    - Input: prices = [7,1,5,3,6,4]\n",
    "    - Output: 5\n",
    "    - Explanation: Buy on day 2 (price = 1) and sell on day 5 (price = 6), profit = 6-1 = 5.\n",
    "    - Note that buying on day 2 and selling on day 1 is not allowed because you must buy before you sell.\n",
    "\n",
    "- Example 2:\n",
    "    - Input: prices = [7,6,4,3,1]\n",
    "    - Output: 0\n",
    "    - Explanation: In this case, no transactions are done and the max profit = 0.\n",
    " \n",
    "\n",
    "- Constraints:\n",
    "    - 1 <= prices.length <= 105\n",
    "    - 0 <= prices[i] <= 104"
   ]
  },
  {
   "cell_type": "code",
   "execution_count": 111,
   "id": "9ea936be",
   "metadata": {},
   "outputs": [
    {
     "name": "stdout",
     "output_type": "stream",
     "text": [
      "5\n",
      "0\n",
      "1\n",
      "3\n"
     ]
    }
   ],
   "source": [
    "class Solution:\n",
    "    def maxProfit(self, prices: List[int]) -> int:\n",
    "        min_price = float('inf')\n",
    "        max_profit = 0\n",
    "\n",
    "        for price in prices:\n",
    "            if price < min_price:\n",
    "                min_price = price\n",
    "            else:\n",
    "                max_profit = max(max_profit, price - min_price)\n",
    "        return max_profit\n",
    "\n",
    "sol = Solution()\n",
    "\n",
    "input = [7,1,5,3,6,4]\n",
    "print(sol.maxProfit(input))\n",
    "\n",
    "input2 = [7,6,4,3,1]\n",
    "print(sol.maxProfit(input2))\n",
    "\n",
    "input3 = [1,2]\n",
    "print(sol.maxProfit(input3))\n",
    "\n",
    "input4 = [1,2,4]\n",
    "print(sol.maxProfit(input4))"
   ]
  },
  {
   "cell_type": "markdown",
   "id": "2b6d1237",
   "metadata": {},
   "source": [
    "## 33. Valid Palindrome\n",
    "- A phrase is a palindrome if, after converting all uppercase letters into lowercase letters and removing all non-alphanumeric characters, it reads the same forward and backward. Alphanumeric characters include letters and numbers.\n",
    "\n",
    "- Given a string s, return true if it is a palindrome, or false otherwise.\n",
    "\n",
    "- Example 1:\n",
    "    - Input: s = \"A man, a plan, a canal: Panama\"\n",
    "    - Output: true\n",
    "    - Explanation: \"amanaplanacanalpanama\" is a palindrome.\n",
    "\n",
    "- Example 2:\n",
    "    - Input: s = \"race a car\"\n",
    "    - Output: false\n",
    "    - Explanation: \"raceacar\" is not a palindrome.\n",
    "\n",
    "- Example 3:\n",
    "    - Input: s = \" \"\n",
    "    - Output: true\n",
    "    - Explanation: s is an empty string \"\" after removing non-alphanumeric characters.\n",
    "    - Since an empty string reads the same forward and backward, it is a palindrome.\n",
    " \n",
    "\n",
    "- Constraints:\n",
    "    - 1 <= s.length <= 2 * 105\n",
    "    - s consists only of printable ASCII characters.\n"
   ]
  },
  {
   "cell_type": "code",
   "execution_count": 139,
   "id": "b7315e6c",
   "metadata": {},
   "outputs": [
    {
     "name": "stdout",
     "output_type": "stream",
     "text": [
      "True\n"
     ]
    }
   ],
   "source": [
    "import re\n",
    "\n",
    "class Solution:\n",
    "    def isPalindrome(self, s: str) -> bool:\n",
    "        clean_text = re.sub(r'[^a-zA-Z0-9\\s]', '', s)\n",
    "        s1 = \"\".join(clean_text.split()).lower()\n",
    "        s2 = \"\".join(reversed(s1))\n",
    "        return s1 == s2\n",
    "\n",
    "sol = Solution()\n",
    "\n",
    "s = \"A man, a plan, a canal: Panama\"\n",
    "print(sol.isPalindrome(s))"
   ]
  },
  {
   "cell_type": "markdown",
   "id": "2737eff9",
   "metadata": {},
   "source": [
    "## 34. Single Number\n",
    "\n",
    "- Given a non-empty array of integers nums, every element appears twice except for one. Find that single one.\n",
    "- You must implement a solution with a linear runtime complexity and use only constant extra space.\n",
    "\n",
    "\n",
    "- Example 1:\n",
    "    - Input: nums = [2,2,1]\n",
    "    - Output: 1\n",
    "\n",
    "- Example 2:\n",
    "    - Input: nums = [4,1,2,1,2]\n",
    "    - Output: 4\n",
    "\n",
    "- Example 3:\n",
    "    - Input: nums = [1]\n",
    "    - Output: 1\n",
    "\n",
    "\n",
    "- Constraints:\n",
    "    - 1 <= nums.length <= 3 * 104\n",
    "    - -3 * 104 <= nums[i] <= 3 * 104\n",
    "    - Each element in the array appears twice except for one element which appears only once."
   ]
  },
  {
   "cell_type": "code",
   "execution_count": null,
   "id": "c21de614",
   "metadata": {},
   "outputs": [
    {
     "name": "stdout",
     "output_type": "stream",
     "text": [
      ":  4\n",
      ":  5\n",
      ":  7\n",
      ":  5\n",
      ":  4\n",
      "4\n"
     ]
    }
   ],
   "source": [
    "class Solution:\n",
    "    def singleNumber(self, nums: List[int]) -> int:\n",
    "        single_num = 0  # Initialize with 0, as x ^ 0 = x\n",
    "        for num in nums:\n",
    "            single_num ^= num  # XOR each number with the running total\n",
    "        return single_num\n",
    "\n",
    "sol = Solution()\n",
    "input = [2, 2, 1]\n",
    "# print(sol.singleNumber(input))\n",
    "\n",
    "input2 = [4, 1, 2, 2, 1]\n",
    "print(sol.singleNumber(input2))\n"
   ]
  },
  {
   "cell_type": "code",
   "execution_count": 147,
   "id": "b9b94c87",
   "metadata": {},
   "outputs": [
    {
     "name": "stdout",
     "output_type": "stream",
     "text": [
      "4\n",
      "1\n",
      "4\n"
     ]
    }
   ],
   "source": [
    "x = 0\n",
    "x ^= 4\n",
    "print(x)\n",
    "\n",
    "x ^= 5\n",
    "print(x)\n",
    "\n",
    "x ^= 5\n",
    "print(x)"
   ]
  },
  {
   "cell_type": "markdown",
   "id": "2595a613",
   "metadata": {},
   "source": [
    "## 35. Linked List Cycle\n",
    "- Given head, the head of a linked list, determine if the linked list has a cycle in it.\n",
    "- There is a cycle in a linked list if there is some node in the list that can be reached again by continuously following the next pointer. Internally, pos is used to denote the index of the node that tail's next pointer is connected to. Note that pos is not passed as a parameter.\n",
    "\n",
    "- Return true if there is a cycle in the linked list. Otherwise, return false.\n",
    " \n",
    "- Example 1:\n",
    "    - Input: head = [3,2,0,-4], pos = 1\n",
    "    - Output: true\n",
    "    - Explanation: There is a cycle in the linked list, where the tail connects to the 1st node (0-indexed).\n",
    "\n",
    "- Example 2:\n",
    "    - Input: head = [1,2], pos = 0\n",
    "    - Output: true\n",
    "    - Explanation: There is a cycle in the linked list, where the tail connects to the 0th node.\n",
    "\n",
    "- Example 3:\n",
    "    - Input: head = [1], pos = -1\n",
    "    - Output: false\n",
    "    - Explanation: There is no cycle in the linked list.\n",
    "\n",
    "- Constraints:\n",
    "    - The number of the nodes in the list is in the range [0, 104].\n",
    "    - -105 <= Node.val <= 105\n",
    "    - pos is -1 or a valid index in the linked-list."
   ]
  },
  {
   "cell_type": "code",
   "execution_count": null,
   "id": "b868d94e",
   "metadata": {},
   "outputs": [],
   "source": [
    "# Definition for singly-linked list.\n",
    "class ListNode:\n",
    "    def __init__(self, x):\n",
    "        self.val = x\n",
    "        self.next = None\n",
    "# Floyd's Tortoise and Hare algorithm\n",
    "class Solution:\n",
    "    def hasCycle(self, head: Optional[ListNode]) -> bool:\n",
    "        if not head or not head.next:\n",
    "            return False\n",
    "        \n",
    "        slow = head\n",
    "        fast = head\n",
    "        while fast and fast.next:\n",
    "            slow = slow.next\n",
    "            fast = fast.next.next\n",
    "\n",
    "            if slow == fast:\n",
    "                return True\n",
    "                \n",
    "        return False\n",
    "        "
   ]
  },
  {
   "cell_type": "markdown",
   "id": "fd284ef1",
   "metadata": {},
   "source": [
    "## 36. Binary Tree Preorder Traversal\n",
    "- Given the root of a binary tree, return the preorder traversal of its nodes' values.\n",
    "\n",
    "- Example 1:\n",
    "    - Input: root = [1,null,2,3]\n",
    "    - Output: [1,2,3]\n",
    "    - Explanation:\n",
    "\n",
    "- Example 2:\n",
    "    - Input: root = [1,2,3,4,5,null,8,null,null,6,7,9]\n",
    "    - Output: [1,2,4,5,6,7,3,8,9]\n",
    "    - Explanation\n",
    "\n",
    "- Example 3:\n",
    "    - Input: root = []\n",
    "    - Output: []\n",
    "\n",
    "- Example 4:\n",
    "    - Input: root = [1]\n",
    "    - Output: [1]\n",
    "\n",
    "- Constraints:\n",
    "    - The number of nodes in the tree is in the range [0, 100].\n",
    "    - -100 <= Node.val <= 100"
   ]
  },
  {
   "cell_type": "code",
   "execution_count": null,
   "id": "711537cc",
   "metadata": {},
   "outputs": [],
   "source": [
    "# Definition for a binary tree node.\n",
    "class TreeNode:\n",
    "    def __init__(self, val=0, left=None, right=None):\n",
    "        self.val = val\n",
    "        self.left = left\n",
    "        self.right = right\n",
    "class Solution:\n",
    "    def preorderTraversal(self, root: Optional[TreeNode]) -> List[int]:\n",
    "        result = []\n",
    "        stack = []\n",
    "        current = root\n",
    "\n",
    "        while current or stack:\n",
    "            if current:\n",
    "                result.append(current.val)\n",
    "                stack.append(current.right) # put it away for later\n",
    "                current = current.left # handle the next left right away\n",
    "            else:\n",
    "                current = stack.pop()\n",
    "        \n",
    "        return result\n",
    "        \n",
    "        "
   ]
  },
  {
   "cell_type": "markdown",
   "id": "210cffa5",
   "metadata": {},
   "source": [
    "## 37.  Binary Tree Postorder Traversal\n",
    "- Given the root of a binary tree, return the postorder traversal of its nodes' values.\n",
    "- Example 1:\n",
    "    - Input: root = [1,null,2,3]\n",
    "    - Output: [3,2,1]\n",
    "    - Explanation:\n",
    "\n",
    "- Example 2:\n",
    "    - Input: root = [1,2,3,4,5,null,8,null,null,6,7,9]\n",
    "    - Output: [4,6,7,5,2,9,8,3,1]\n",
    "    - Explanation:\n",
    "\n",
    "- Example 3:\n",
    "    - Input: root = []\n",
    "    - Output: []\n",
    "\n",
    "- Example 4:\n",
    "    - Input: root = [1]\n",
    "    - Output: [1]\n",
    "\n",
    "- Constraints:\n",
    "    - The number of the nodes in the tree is in the range [0, 100].\n",
    "    - -100 <= Node.val <= 100"
   ]
  },
  {
   "cell_type": "code",
   "execution_count": null,
   "id": "cae613e7",
   "metadata": {},
   "outputs": [],
   "source": [
    "# Definition for a binary tree node.\n",
    "class TreeNode:\n",
    "    def __init__(self, val=0, left=None, right=None):\n",
    "        self.val = val\n",
    "        self.left = left\n",
    "        self.right = right\n",
    "class Solution:\n",
    "    def postorderTraversal(self, root: Optional[TreeNode]) -> List[int]:\n",
    "        postorder_result = []\n",
    "        if not root:\n",
    "            return postorder_result\n",
    "\n",
    "        stack1 = [root]\n",
    "        stack2 = []\n",
    "\n",
    "        while stack1:\n",
    "            current_node = stack1.pop()\n",
    "            stack2.append(current_node)\n",
    "\n",
    "            if current_node.left:\n",
    "                stack1.append(current_node.left)\n",
    "            if current_node.right:\n",
    "                stack1.append(current_node.right)\n",
    "\n",
    "        while stack2:\n",
    "            postorder_result.append(stack2.pop().val)\n",
    "\n",
    "        return postorder_result"
   ]
  },
  {
   "cell_type": "markdown",
   "id": "10cf8f2b",
   "metadata": {},
   "source": [
    "## 38.  Intersection of Two Linked Lists\n",
    "\n",
    "- Given the heads of two singly linked-lists headA and headB, return the node at which the two lists intersect. If the two linked lists have no intersection at all, return null.\n",
    "\n",
    "- For example, the following two linked lists begin to intersect at node c1:\n",
    "\n",
    "- The test cases are generated such that there are no cycles anywhere in the entire linked structure.\n",
    "\n",
    "- Note that the linked lists must retain their original structure after the function returns.\n",
    "\n",
    "- Custom Judge:\n",
    "\n",
    "- The inputs to the judge are given as follows (your program is not given these inputs):\n",
    "    - intersectVal - The value of the node where the intersection occurs. This is 0 if there is no intersected node.\n",
    "    - listA - The first linked list.\n",
    "    - listB - The second linked list.\n",
    "    - skipA - The number of nodes to skip ahead in listA (starting from the head) to get to the intersected node.\n",
    "    - skipB - The number of nodes to skip ahead in listB (starting from the head) to get to the intersected node.\n",
    "\n",
    "- The judge will then create the linked structure based on these inputs and pass the two heads, headA and headB to your program. If you correctly return the intersected node, then your solution will be accepted.\n",
    "\n",
    " \n",
    "\n",
    "- Example 1:\n",
    "    - Input: intersectVal = 8, listA = [4,1,8,4,5], listB = [5,6,1,8,4,5], skipA = 2, skipB = 3\n",
    "    - Output: Intersected at '8'\n",
    "    - Explanation: The intersected node's value is 8 (note that this must not be 0 if the two lists intersect). From the head of A, it reads as [4,1,8,4,5]. From the head of B, it reads as [5,6,1,8,4,5]. There are 2 nodes before the intersected node in A; There are 3 nodes before the intersected node in B.\n",
    "- Note that the intersected node's value is not 1 because the nodes with value 1 in A and B (2nd node in A and 3rd node in B) are different node references. In other words, they point to two different locations in memory, while the nodes with value 8 in A and B (3rd node in A and 4th node in B) point to the same location in memory.\n",
    "\n",
    "- Example 2:\n",
    "    - Input: intersectVal = 2, listA = [1,9,1,2,4], listB = [3,2,4], skipA = 3, skipB = 1\n",
    "    - Output: Intersected at '2'\n",
    "    - Explanation: The intersected node's value is 2 (note that this must not be 0 if the two lists intersect). From the head of A, it reads as [1,9,1,2,4]. From the head of B, it reads as [3,2,4]. There are 3 nodes before the intersected node in A; There are 1 node before the intersected node in B.\n",
    "\n",
    "- Example 3:\n",
    "    - Input: intersectVal = 0, listA = [2,6,4], listB = [1,5], skipA = 3, skipB = 2\n",
    "    - Output: No intersection\n",
    "    - Explanation: From the head of A, it reads as [2,6,4]. From the head of B, it reads as [1,5]. Since the two lists do not intersect, intersectVal must be 0, while skipA and skipB can be arbitrary values.\n",
    "- Explanation: The two lists do not intersect, so return null.\n",
    "\n",
    "\n",
    " - Constraints:\n",
    "    - The number of nodes of listA is in the m.\n",
    "    - The number of nodes of listB is in the n.\n",
    "    - 1 <= m, n <= 3 * 104\n",
    "    - 1 <= Node.val <= 105\n",
    "    - 0 <= skipA <= m\n",
    "    - 0 <= skipB <= n\n",
    "    - intersectVal is 0 if listA and listB do not intersect.\n",
    "    - intersectVal == listA[skipA] == listB[skipB] if listA and listB intersect.\n"
   ]
  },
  {
   "cell_type": "code",
   "execution_count": 149,
   "id": "fefa4dfc",
   "metadata": {},
   "outputs": [],
   "source": [
    "# Definition for singly-linked list.\n",
    "class ListNode:\n",
    "    def __init__(self, x):\n",
    "        self.val = x\n",
    "        self.next = None\n",
    "\n",
    "class Solution:\n",
    "    def getIntersectionNode(self, headA: ListNode, headB: ListNode) -> Optional[ListNode]:\n",
    "        if not headA or not headB:\n",
    "            return None\n",
    "\n",
    "        ptrA = headA\n",
    "        ptrB = headB\n",
    "        # the idea is to continue loop around each other when they get to the end.\n",
    "        while ptrA != ptrB:\n",
    "            if ptrA is None:\n",
    "                ptrA = headB\n",
    "            else:\n",
    "                ptrA = ptrA.next\n",
    "\n",
    "            if ptrB is None:\n",
    "                ptrB = headA\n",
    "            else:\n",
    "                ptrB = ptrB.next\n",
    "        # When ptrA == ptrB, they either meet at the intersection node\n",
    "        # or they both become None if there's no intersection.\n",
    "        return ptrA\n",
    "\n",
    "        "
   ]
  },
  {
   "cell_type": "markdown",
   "id": "2dc900eb",
   "metadata": {},
   "source": [
    "## 39. Excel Sheet Column Title\n",
    "- Given an integer columnNumber, return its corresponding column title as it appears in an Excel sheet.\n",
    "\n",
    "- For example:\n",
    "```\n",
    "A -> 1\n",
    "B -> 2\n",
    "C -> 3\n",
    "...\n",
    "Z -> 26\n",
    "AA -> 27\n",
    "AB -> 28 \n",
    "...\n",
    "```\n",
    "\n",
    "- Example 1:\n",
    "    - Input: columnNumber = 1\n",
    "    - Output: \"A\"\n",
    "\n",
    "- Example 2:\n",
    "    - Input: columnNumber = 28\n",
    "    - Output: \"AB\"\n",
    "\n",
    "- Example 3:\n",
    "    - Input: columnNumber = 701\n",
    "    - Output: \"ZY\"\n",
    " \n",
    "\n",
    "- Constraints:\n",
    "    - 1 <= columnNumber <= 231 - 1"
   ]
  },
  {
   "cell_type": "code",
   "execution_count": null,
   "id": "25e9f5b4",
   "metadata": {},
   "outputs": [],
   "source": [
    "class Solution:\n",
    "    def convertToTitle(self, columnNumber: int) -> str:\n",
    "        alpha = 26\n",
    "        lookup = [\"A\", \"B\", \"C\", \"D\", \"E\", \"F\", \"G\", \"H\", \"I\", \"J\", \"K\", \"L\", \"M\", \"N\", \"O\", \"P\", \"Q\", \"R\", \"S\", \"T\", \"U\", \"V\", \"W\", \"X\", \"Y\", \"Z\"]\n",
    "        result = []\n",
    "\n",
    "        each_word = columnNumber % alpha\n",
    "        # work backwards and get the remainder first, then reversed the list of characters and join them together\n",
    "        while columnNumber > 0:\n",
    "            columnNumber -= 1\n",
    "\n",
    "            remainder = columnNumber % alpha\n",
    "\n",
    "            result.append(lookup[remainder])\n",
    "\n",
    "            columnNumber //= alpha\n",
    "        \n",
    "        return \"\".join(result[::-1])\n"
   ]
  },
  {
   "cell_type": "markdown",
   "id": "5d9353af",
   "metadata": {},
   "source": [
    "## 40. Majority Element\n",
    "- Given an array nums of size n, return the majority element.\n",
    "\n",
    "- The majority element is the element that appears more than ⌊n / 2⌋ times. You may assume that the majority element always exists in the array.\n",
    "\n",
    "- Example 1:\n",
    "    - Input: nums = [3,2,3]\n",
    "    - Output: 3\n",
    "\n",
    "- Example 2:\n",
    "    - Input: nums = [2,2,1,1,1,2,2]\n",
    "    - Output: 2\n",
    " \n",
    "\n",
    "- Constraints:\n",
    "    - n == nums.length\n",
    "    - 1 <= n <= 5 * 104\n",
    "    - -109 <= nums[i] <= 109"
   ]
  },
  {
   "cell_type": "code",
   "execution_count": 157,
   "id": "311b8249",
   "metadata": {},
   "outputs": [
    {
     "name": "stdout",
     "output_type": "stream",
     "text": [
      "3\n"
     ]
    }
   ],
   "source": [
    "class Solution:\n",
    "    def majorityElement(self, nums: List[int]) -> int:\n",
    "        counts = {}\n",
    "        for item in nums:\n",
    "            counts[item] = counts.get(item, 0) + 1\n",
    "        \n",
    "        most_element = None\n",
    "        max_freq = 0\n",
    "        for item, count in counts.items():\n",
    "            if count > max_freq:\n",
    "                max_freq = count\n",
    "                most_element = item\n",
    "        return most_element\n",
    "\n",
    "\n",
    "sol = Solution()\n",
    "\n",
    "input = [3, 2, 3]\n",
    "print(sol.majorityElement(input))\n"
   ]
  },
  {
   "cell_type": "markdown",
   "id": "5d7e067e",
   "metadata": {},
   "source": [
    "## 41. Excel Sheet Column Number\n",
    "\n",
    "- Given a string columnTitle that represents the column title as appears in an Excel sheet, return its corresponding column number.\n",
    "\n",
    "- For example:\n",
    "\n",
    "```\n",
    "A -> 1\n",
    "B -> 2\n",
    "C -> 3\n",
    "...\n",
    "Z -> 26\n",
    "AA -> 27\n",
    "AB -> 28 \n",
    "...\n",
    " ```\n",
    "\n",
    "- Example 1:\n",
    "    - Input: columnTitle = \"A\"\n",
    "    - Output: 1\n",
    "\n",
    "- Example 2:\n",
    "    - Input: columnTitle = \"AB\"\n",
    "    - Output: 28\n",
    "\n",
    "- Example 3:\n",
    "    - Input: columnTitle = \"ZY\"\n",
    "    - Output: 701\n",
    " \n",
    "- Constraints:\n",
    "    - 1 <= columnTitle.length <= 7\n",
    "    - columnTitle consists only of uppercase English letters.\n",
    "    - columnTitle is in the range [\"A\", \"FXSHRXW\"]."
   ]
  },
  {
   "cell_type": "code",
   "execution_count": 171,
   "id": "64456f98",
   "metadata": {},
   "outputs": [
    {
     "name": "stdout",
     "output_type": "stream",
     "text": [
      "1\n",
      "28\n"
     ]
    }
   ],
   "source": [
    "class Solution:\n",
    "    def titleToNumber(self, columnTitle: str) -> int:\n",
    "        alpha = 26\n",
    "        distance_A = 64\n",
    "        result = 0\n",
    "\n",
    "        for title  in columnTitle:\n",
    "            alpha_num = ord(title) - distance_A\n",
    "            result = result * alpha + alpha_num\n",
    "        return result\n",
    "\n",
    "sol = Solution()\n",
    "\n",
    "input = \"A\"\n",
    "print(sol.titleToNumber(input))\n",
    "            \n",
    "input2 = \"AB\"\n",
    "print(sol.titleToNumber(input2))\n"
   ]
  },
  {
   "cell_type": "markdown",
   "id": "87663983",
   "metadata": {},
   "source": [
    "## 42. Combine Two Tables\n",
    "\n",
    "- Table: Person\n",
    "\n",
    "| Column Name | Type    |\n",
    "| ----------- | ------- |\n",
    "| personId    | int     |\n",
    "| lastName    | varchar |\n",
    "| firstName   | varchar |\n",
    "- personId is the primary key (column with unique values) for this table. This table contains information about the ID of some persons and their first and last names.\n",
    " \n",
    "\n",
    "- Table: Address\n",
    "\n",
    "| Column Name | Type    |\n",
    "| ----------- | -------- |\n",
    "| addressId   | int     |\n",
    "| personId    | int     |\n",
    "| city        | varchar |\n",
    "| state       | varchar |\n",
    "- addressId is the primary key (column with unique values) for this table. Each row of this table contains information about the city and state of one person with ID = PersonId.\n",
    " \n",
    "\n",
    "- Write a solution to report the first name, last name, city, and state of each person in the Person table. If the address of a personId is not present in the Address table, report null instead.\n",
    "\n",
    "- Return the result table in any order.\n",
    "\n",
    "- The result format is in the following example.\n",
    "\n",
    "\n",
    "- Example 1:\n",
    "\n",
    "- Input: \n",
    "- Person table:\n",
    "\n",
    "| personId | lastName | firstName |\n",
    "|----------|----------|-----------|\n",
    "| 1        | Wang     | Allen     |\n",
    "| 2        | Alice    | Bob       |\n",
    "\n",
    "- Address table:\n",
    "\n",
    "| addressId | personId | city          | state      |\n",
    "| --------- | -------- | ------------- | ---------- |\n",
    "| 1         | 2        | New York City | New York   |\n",
    "| 2         | 3        | Leetcode      | California |\n",
    "\n",
    "- Output: \n",
    "\n",
    "| firstName | lastName | city          | state    |\n",
    "| --------- | -------- | ------------- | -------- |\n",
    "| Allen     | Wang     | Null          | Null     |\n",
    "| Bob       | Alice    | New York City | New York |\n",
    "\n",
    "- Explanation: \n",
    "    - There is no address in the address table for the personId = 1 so we return null in their city and state. addressId = 1 contains information about the address of personId = 2.\n"
   ]
  },
  {
   "cell_type": "code",
   "execution_count": null,
   "id": "1941acd0",
   "metadata": {},
   "outputs": [],
   "source": [
    "# SELECT firstname, lastName, city, state \n",
    "# FROM Person\n",
    "# LEFT JOIN Address ON Person.personId = Address.personId\n",
    "\n",
    "# The key word is report null if address is not present, means it will take everything from Person table regardless."
   ]
  },
  {
   "cell_type": "markdown",
   "id": "ce2b44cb",
   "metadata": {},
   "source": [
    "## 43. Employees Earning More Than Their Managers\n",
    "\n",
    "- Table: Employee\n",
    "\n",
    "\n",
    "| Column Name | Type    |\n",
    "| ----------- | -------- |\n",
    "| id          | int     |\n",
    "| name        | varchar |\n",
    "| salary      | int     |\n",
    "| managerId   | int     |\n",
    "\n",
    "id is the primary key (column with unique values) for this table.\n",
    "Each row of this table indicates the ID of an employee, their name, salary, and the ID of their manager.\n",
    "\n",
    "\n",
    "- Write a solution to find the employees who earn more than their managers.\n",
    "\n",
    "- Return the result table in any order.\n",
    "\n",
    "- The result format is in the following example.\n",
    "\n",
    " \n",
    "- Example 1:\n",
    "    - Input: \n",
    "    - Employee table:\n",
    "\n",
    "| id | name  | salary | managerId |\n",
    "| --- | ----- | ------ | --------- |\n",
    "| 1  | Joe   | 70000  | 3         |\n",
    "| 2  | Henry | 80000  | 4         |\n",
    "| 3  | Sam   | 60000  | Null      |\n",
    "| 4  | Max   | 90000  | Null      |\n",
    "\n",
    "- Output: \n",
    "\n",
    "| Employee |\n",
    "| --------- |\n",
    "| Joe      |\n",
    "\n",
    "- Explanation: Joe is the only employee who earns more than his manager."
   ]
  },
  {
   "cell_type": "code",
   "execution_count": null,
   "id": "21d92d3f",
   "metadata": {},
   "outputs": [],
   "source": [
    "# SELECT e1.name AS Employee from Employee as e1\n",
    "# JOIN Employee AS e2 ON e1.managerID = e2.id\n",
    "# WHERE e1.salary > e2.salary "
   ]
  },
  {
   "cell_type": "markdown",
   "id": "d019ffcb",
   "metadata": {},
   "source": [
    "## 44. Duplicate Emails\n",
    "\n",
    "\n",
    "| Column Name | Type    |\n",
    "| ----------- | ------- |\n",
    "| id          | int     |\n",
    "| email       | varchar |\n",
    "\n",
    "id is the primary key (column with unique values) for this table.\n",
    "Each row of this table contains an email. The emails will not contain uppercase letters.\n",
    " \n",
    "\n",
    "- Write a solution to report all the duplicate emails. Note that it's guaranteed that the email field is not NULL.\n",
    "- Return the result table in any order.\n",
    "- The result format is in the following example.\n",
    "\n",
    " \n",
    "\n",
    "Example 1:\n",
    "\n",
    "Input: \n",
    "Person table:\n",
    "\n",
    "| id | email   |\n",
    "| -- | ------- |\n",
    "| 1  | a@b.com |\n",
    "| 2  | c@d.com |\n",
    "| 3  | a@b.com |\n",
    "\n",
    "- Output: \n",
    "\n",
    "| Email   |\n",
    "| ------- |\n",
    "| a@b.com |\n",
    "\n",
    "- Explanation: a@b.com is repeated two times."
   ]
  },
  {
   "cell_type": "code",
   "execution_count": null,
   "id": "b5d1850e",
   "metadata": {},
   "outputs": [],
   "source": [
    "# SELECT\n",
    "#     email,\n",
    "# FROM\n",
    "#     Person\n",
    "# GROUP BY\n",
    "#     email\n",
    "# HAVING\n",
    "#     COUNT(*) > 1"
   ]
  },
  {
   "cell_type": "markdown",
   "id": "cb4e22b5",
   "metadata": {},
   "source": [
    "## 45."
   ]
  },
  {
   "cell_type": "code",
   "execution_count": null,
   "id": "9be4fd4d",
   "metadata": {},
   "outputs": [],
   "source": []
  },
  {
   "cell_type": "markdown",
   "id": "410a9441",
   "metadata": {},
   "source": [
    "## 46."
   ]
  },
  {
   "cell_type": "code",
   "execution_count": null,
   "id": "dc61fe0a",
   "metadata": {},
   "outputs": [],
   "source": []
  },
  {
   "cell_type": "markdown",
   "id": "8805c6d7",
   "metadata": {},
   "source": [
    "## 47."
   ]
  },
  {
   "cell_type": "code",
   "execution_count": null,
   "id": "0e4c68d7",
   "metadata": {},
   "outputs": [],
   "source": []
  },
  {
   "cell_type": "markdown",
   "id": "1ab4a1e8",
   "metadata": {},
   "source": [
    "## 48."
   ]
  },
  {
   "cell_type": "code",
   "execution_count": null,
   "id": "d997d246",
   "metadata": {},
   "outputs": [],
   "source": []
  },
  {
   "cell_type": "markdown",
   "id": "0bcf6e2d",
   "metadata": {},
   "source": [
    "## 49."
   ]
  },
  {
   "cell_type": "code",
   "execution_count": null,
   "id": "d47efd1c",
   "metadata": {},
   "outputs": [],
   "source": []
  },
  {
   "cell_type": "markdown",
   "id": "60bfc474",
   "metadata": {},
   "source": [
    "## 50."
   ]
  },
  {
   "cell_type": "code",
   "execution_count": null,
   "id": "9b1981d2",
   "metadata": {},
   "outputs": [],
   "source": []
  },
  {
   "cell_type": "markdown",
   "id": "33b9a176",
   "metadata": {},
   "source": [
    "# Questions #51-75"
   ]
  },
  {
   "cell_type": "markdown",
   "id": "60662d80",
   "metadata": {},
   "source": [
    "## 51."
   ]
  },
  {
   "cell_type": "code",
   "execution_count": null,
   "id": "3e1b20a2",
   "metadata": {},
   "outputs": [],
   "source": []
  },
  {
   "cell_type": "markdown",
   "id": "37a829e9",
   "metadata": {},
   "source": [
    "## 52."
   ]
  },
  {
   "cell_type": "code",
   "execution_count": null,
   "id": "276c437d",
   "metadata": {},
   "outputs": [],
   "source": []
  },
  {
   "cell_type": "markdown",
   "id": "af69977b",
   "metadata": {},
   "source": [
    "## 53."
   ]
  },
  {
   "cell_type": "code",
   "execution_count": null,
   "id": "08adaa52",
   "metadata": {},
   "outputs": [],
   "source": []
  },
  {
   "cell_type": "markdown",
   "id": "d1c491d1",
   "metadata": {},
   "source": [
    "## 54."
   ]
  },
  {
   "cell_type": "code",
   "execution_count": null,
   "id": "2ec1cd87",
   "metadata": {},
   "outputs": [],
   "source": []
  },
  {
   "cell_type": "markdown",
   "id": "5650eeb8",
   "metadata": {},
   "source": [
    "## 55."
   ]
  },
  {
   "cell_type": "code",
   "execution_count": null,
   "id": "d0d2ce16",
   "metadata": {},
   "outputs": [],
   "source": []
  },
  {
   "cell_type": "markdown",
   "id": "196b328d",
   "metadata": {},
   "source": [
    "## 56."
   ]
  },
  {
   "cell_type": "code",
   "execution_count": null,
   "id": "8e09c972",
   "metadata": {},
   "outputs": [],
   "source": []
  },
  {
   "cell_type": "markdown",
   "id": "bd409800",
   "metadata": {},
   "source": [
    "## 57."
   ]
  },
  {
   "cell_type": "code",
   "execution_count": null,
   "id": "b41fb279",
   "metadata": {},
   "outputs": [],
   "source": []
  },
  {
   "cell_type": "markdown",
   "id": "769ecf96",
   "metadata": {},
   "source": [
    "## 58."
   ]
  },
  {
   "cell_type": "code",
   "execution_count": null,
   "id": "50880e6c",
   "metadata": {},
   "outputs": [],
   "source": []
  },
  {
   "cell_type": "markdown",
   "id": "ce3edb48",
   "metadata": {},
   "source": [
    "## 59."
   ]
  },
  {
   "cell_type": "code",
   "execution_count": null,
   "id": "c6b24d76",
   "metadata": {},
   "outputs": [],
   "source": []
  },
  {
   "cell_type": "markdown",
   "id": "846aceeb",
   "metadata": {},
   "source": [
    "## 60."
   ]
  },
  {
   "cell_type": "code",
   "execution_count": null,
   "id": "afde6aa9",
   "metadata": {},
   "outputs": [],
   "source": []
  },
  {
   "cell_type": "markdown",
   "id": "23ff488f",
   "metadata": {},
   "source": [
    "## 61."
   ]
  },
  {
   "cell_type": "code",
   "execution_count": null,
   "id": "c6948d47",
   "metadata": {},
   "outputs": [],
   "source": []
  },
  {
   "cell_type": "markdown",
   "id": "93e8ca4e",
   "metadata": {},
   "source": [
    "## 62."
   ]
  },
  {
   "cell_type": "code",
   "execution_count": null,
   "id": "b787570b",
   "metadata": {},
   "outputs": [],
   "source": []
  },
  {
   "cell_type": "markdown",
   "id": "b4c0f9cd",
   "metadata": {},
   "source": [
    "## 63."
   ]
  },
  {
   "cell_type": "code",
   "execution_count": null,
   "id": "670c0442",
   "metadata": {},
   "outputs": [],
   "source": []
  },
  {
   "cell_type": "markdown",
   "id": "34b267ad",
   "metadata": {},
   "source": [
    "## 64."
   ]
  },
  {
   "cell_type": "code",
   "execution_count": null,
   "id": "ef5c4993",
   "metadata": {},
   "outputs": [],
   "source": []
  },
  {
   "cell_type": "markdown",
   "id": "d58a5f08",
   "metadata": {},
   "source": [
    "## 65."
   ]
  },
  {
   "cell_type": "code",
   "execution_count": null,
   "id": "b258914a",
   "metadata": {},
   "outputs": [],
   "source": []
  },
  {
   "cell_type": "markdown",
   "id": "b519d1e2",
   "metadata": {},
   "source": [
    "## 66."
   ]
  },
  {
   "cell_type": "code",
   "execution_count": null,
   "id": "b56f8e83",
   "metadata": {},
   "outputs": [],
   "source": []
  },
  {
   "cell_type": "markdown",
   "id": "da67a733",
   "metadata": {},
   "source": [
    "## 67."
   ]
  },
  {
   "cell_type": "code",
   "execution_count": null,
   "id": "5a4826c8",
   "metadata": {},
   "outputs": [],
   "source": []
  },
  {
   "cell_type": "markdown",
   "id": "9aa29f3b",
   "metadata": {},
   "source": [
    "## 68."
   ]
  },
  {
   "cell_type": "code",
   "execution_count": null,
   "id": "05b389f0",
   "metadata": {},
   "outputs": [],
   "source": []
  },
  {
   "cell_type": "markdown",
   "id": "fde473b9",
   "metadata": {},
   "source": [
    "## 69."
   ]
  },
  {
   "cell_type": "code",
   "execution_count": null,
   "id": "ef33feaf",
   "metadata": {},
   "outputs": [],
   "source": []
  },
  {
   "cell_type": "markdown",
   "id": "ac69bafd",
   "metadata": {},
   "source": [
    "## 70."
   ]
  },
  {
   "cell_type": "code",
   "execution_count": null,
   "id": "b6ae3ace",
   "metadata": {},
   "outputs": [],
   "source": []
  },
  {
   "cell_type": "markdown",
   "id": "2caea61e",
   "metadata": {},
   "source": [
    "## 71."
   ]
  },
  {
   "cell_type": "code",
   "execution_count": null,
   "id": "37aadc1b",
   "metadata": {},
   "outputs": [],
   "source": []
  },
  {
   "cell_type": "markdown",
   "id": "7980a332",
   "metadata": {},
   "source": [
    "## 72."
   ]
  },
  {
   "cell_type": "code",
   "execution_count": null,
   "id": "f57f4f5f",
   "metadata": {},
   "outputs": [],
   "source": []
  },
  {
   "cell_type": "markdown",
   "id": "afa0fc85",
   "metadata": {},
   "source": [
    "## 73."
   ]
  },
  {
   "cell_type": "code",
   "execution_count": null,
   "id": "c529bc29",
   "metadata": {},
   "outputs": [],
   "source": []
  },
  {
   "cell_type": "markdown",
   "id": "d9abd30e",
   "metadata": {},
   "source": [
    "## 74."
   ]
  },
  {
   "cell_type": "code",
   "execution_count": null,
   "id": "d7b203ed",
   "metadata": {},
   "outputs": [],
   "source": []
  },
  {
   "cell_type": "markdown",
   "id": "67e2d8a3",
   "metadata": {},
   "source": [
    "## 75."
   ]
  },
  {
   "cell_type": "code",
   "execution_count": null,
   "id": "7ba0dac4",
   "metadata": {},
   "outputs": [],
   "source": []
  },
  {
   "cell_type": "markdown",
   "id": "3652fd08",
   "metadata": {},
   "source": [
    "# Questions #76-100"
   ]
  },
  {
   "cell_type": "markdown",
   "id": "34871b2e",
   "metadata": {},
   "source": [
    "## 76."
   ]
  },
  {
   "cell_type": "code",
   "execution_count": null,
   "id": "5ef5487d",
   "metadata": {},
   "outputs": [],
   "source": []
  },
  {
   "cell_type": "markdown",
   "id": "17b01f56",
   "metadata": {},
   "source": [
    "## 77."
   ]
  },
  {
   "cell_type": "code",
   "execution_count": null,
   "id": "a05e8a2a",
   "metadata": {},
   "outputs": [],
   "source": []
  },
  {
   "cell_type": "markdown",
   "id": "0507ee7a",
   "metadata": {},
   "source": [
    "## 78."
   ]
  },
  {
   "cell_type": "code",
   "execution_count": null,
   "id": "cb1059e3",
   "metadata": {},
   "outputs": [],
   "source": []
  },
  {
   "cell_type": "markdown",
   "id": "dcf9bbd7",
   "metadata": {},
   "source": [
    "## 79."
   ]
  },
  {
   "cell_type": "code",
   "execution_count": null,
   "id": "44127817",
   "metadata": {},
   "outputs": [],
   "source": []
  },
  {
   "cell_type": "markdown",
   "id": "a511fcb9",
   "metadata": {},
   "source": [
    "## 80."
   ]
  },
  {
   "cell_type": "code",
   "execution_count": null,
   "id": "a31ebaa7",
   "metadata": {},
   "outputs": [],
   "source": []
  },
  {
   "cell_type": "markdown",
   "id": "737af6bc",
   "metadata": {},
   "source": [
    "## 81."
   ]
  },
  {
   "cell_type": "code",
   "execution_count": null,
   "id": "5df41b59",
   "metadata": {},
   "outputs": [],
   "source": []
  },
  {
   "cell_type": "markdown",
   "id": "88784f7e",
   "metadata": {},
   "source": [
    "## 82."
   ]
  },
  {
   "cell_type": "code",
   "execution_count": null,
   "id": "68b86a18",
   "metadata": {},
   "outputs": [],
   "source": []
  },
  {
   "cell_type": "markdown",
   "id": "1d4d782b",
   "metadata": {},
   "source": [
    "## 83."
   ]
  },
  {
   "cell_type": "code",
   "execution_count": null,
   "id": "8c7f735e",
   "metadata": {},
   "outputs": [],
   "source": []
  },
  {
   "cell_type": "markdown",
   "id": "e79e3ebe",
   "metadata": {},
   "source": [
    "## 84."
   ]
  },
  {
   "cell_type": "code",
   "execution_count": null,
   "id": "08355f93",
   "metadata": {},
   "outputs": [],
   "source": []
  },
  {
   "cell_type": "markdown",
   "id": "bc925cb3",
   "metadata": {},
   "source": [
    "## 85."
   ]
  },
  {
   "cell_type": "code",
   "execution_count": null,
   "id": "ff0c92ef",
   "metadata": {},
   "outputs": [],
   "source": []
  },
  {
   "cell_type": "markdown",
   "id": "b6a86a76",
   "metadata": {},
   "source": [
    "## 86."
   ]
  },
  {
   "cell_type": "code",
   "execution_count": null,
   "id": "7a91b418",
   "metadata": {},
   "outputs": [],
   "source": []
  },
  {
   "cell_type": "markdown",
   "id": "f04e368f",
   "metadata": {},
   "source": [
    "## 87."
   ]
  },
  {
   "cell_type": "code",
   "execution_count": null,
   "id": "ae557c7c",
   "metadata": {},
   "outputs": [],
   "source": []
  },
  {
   "cell_type": "markdown",
   "id": "6afab7f3",
   "metadata": {},
   "source": [
    "## 88."
   ]
  },
  {
   "cell_type": "code",
   "execution_count": null,
   "id": "36b4253a",
   "metadata": {},
   "outputs": [],
   "source": []
  },
  {
   "cell_type": "markdown",
   "id": "5ae50478",
   "metadata": {},
   "source": [
    "## 89."
   ]
  },
  {
   "cell_type": "code",
   "execution_count": null,
   "id": "54b7d889",
   "metadata": {},
   "outputs": [],
   "source": []
  },
  {
   "cell_type": "markdown",
   "id": "77dd3857",
   "metadata": {},
   "source": [
    "## 90."
   ]
  },
  {
   "cell_type": "code",
   "execution_count": null,
   "id": "29d075d3",
   "metadata": {},
   "outputs": [],
   "source": []
  },
  {
   "cell_type": "markdown",
   "id": "035b10ee",
   "metadata": {},
   "source": [
    "## 91."
   ]
  },
  {
   "cell_type": "code",
   "execution_count": null,
   "id": "67856ec5",
   "metadata": {},
   "outputs": [],
   "source": []
  },
  {
   "cell_type": "markdown",
   "id": "9aab7577",
   "metadata": {},
   "source": [
    "## 92."
   ]
  },
  {
   "cell_type": "code",
   "execution_count": null,
   "id": "d1f4e0f5",
   "metadata": {},
   "outputs": [],
   "source": []
  },
  {
   "cell_type": "markdown",
   "id": "adfff3fc",
   "metadata": {},
   "source": [
    "## 93."
   ]
  },
  {
   "cell_type": "code",
   "execution_count": null,
   "id": "35ae5b37",
   "metadata": {},
   "outputs": [],
   "source": []
  },
  {
   "cell_type": "markdown",
   "id": "33688f5b",
   "metadata": {},
   "source": [
    "## 94."
   ]
  },
  {
   "cell_type": "code",
   "execution_count": null,
   "id": "07cc394b",
   "metadata": {},
   "outputs": [],
   "source": []
  },
  {
   "cell_type": "markdown",
   "id": "95539473",
   "metadata": {},
   "source": [
    "## 95."
   ]
  },
  {
   "cell_type": "code",
   "execution_count": null,
   "id": "e6234beb",
   "metadata": {},
   "outputs": [],
   "source": []
  },
  {
   "cell_type": "markdown",
   "id": "9054917d",
   "metadata": {},
   "source": [
    "## 96."
   ]
  },
  {
   "cell_type": "code",
   "execution_count": null,
   "id": "c124cebf",
   "metadata": {},
   "outputs": [],
   "source": []
  },
  {
   "cell_type": "markdown",
   "id": "91fd91fb",
   "metadata": {},
   "source": [
    "## 97."
   ]
  },
  {
   "cell_type": "code",
   "execution_count": null,
   "id": "92b47076",
   "metadata": {},
   "outputs": [],
   "source": []
  },
  {
   "cell_type": "markdown",
   "id": "910c81b1",
   "metadata": {},
   "source": [
    "## 98."
   ]
  },
  {
   "cell_type": "code",
   "execution_count": null,
   "id": "cdd2446f",
   "metadata": {},
   "outputs": [],
   "source": []
  },
  {
   "cell_type": "markdown",
   "id": "fb161cbd",
   "metadata": {},
   "source": [
    "## 99."
   ]
  },
  {
   "cell_type": "code",
   "execution_count": null,
   "id": "a276f61c",
   "metadata": {},
   "outputs": [],
   "source": []
  },
  {
   "cell_type": "markdown",
   "id": "ea049e85",
   "metadata": {},
   "source": [
    "## 100."
   ]
  },
  {
   "cell_type": "code",
   "execution_count": null,
   "id": "36f49a77",
   "metadata": {},
   "outputs": [],
   "source": []
  },
  {
   "cell_type": "markdown",
   "id": "6df55b8e",
   "metadata": {},
   "source": [
    "# Questions #101-125"
   ]
  },
  {
   "cell_type": "markdown",
   "id": "97c8a1b8",
   "metadata": {},
   "source": [
    "## 101."
   ]
  },
  {
   "cell_type": "code",
   "execution_count": null,
   "id": "40f4d095",
   "metadata": {},
   "outputs": [],
   "source": []
  },
  {
   "cell_type": "markdown",
   "id": "7b3ee046",
   "metadata": {},
   "source": [
    "## 102."
   ]
  },
  {
   "cell_type": "code",
   "execution_count": null,
   "id": "dc874925",
   "metadata": {},
   "outputs": [],
   "source": []
  },
  {
   "cell_type": "markdown",
   "id": "45af5bd4",
   "metadata": {},
   "source": [
    "## 103."
   ]
  },
  {
   "cell_type": "code",
   "execution_count": null,
   "id": "fba762fa",
   "metadata": {},
   "outputs": [],
   "source": []
  },
  {
   "cell_type": "markdown",
   "id": "2ccad59d",
   "metadata": {},
   "source": [
    "## 104."
   ]
  },
  {
   "cell_type": "code",
   "execution_count": null,
   "id": "8463a048",
   "metadata": {},
   "outputs": [],
   "source": []
  },
  {
   "cell_type": "markdown",
   "id": "f5ebafac",
   "metadata": {},
   "source": [
    "## 105."
   ]
  },
  {
   "cell_type": "code",
   "execution_count": null,
   "id": "33abfe11",
   "metadata": {},
   "outputs": [],
   "source": []
  },
  {
   "cell_type": "markdown",
   "id": "b908353c",
   "metadata": {},
   "source": [
    "## 106."
   ]
  },
  {
   "cell_type": "code",
   "execution_count": null,
   "id": "e8937a64",
   "metadata": {},
   "outputs": [],
   "source": []
  },
  {
   "cell_type": "markdown",
   "id": "5035af0b",
   "metadata": {},
   "source": [
    "## 107."
   ]
  },
  {
   "cell_type": "code",
   "execution_count": null,
   "id": "17b0199a",
   "metadata": {},
   "outputs": [],
   "source": []
  },
  {
   "cell_type": "markdown",
   "id": "88a17685",
   "metadata": {},
   "source": [
    "## 108."
   ]
  },
  {
   "cell_type": "code",
   "execution_count": null,
   "id": "5c5dd7c2",
   "metadata": {},
   "outputs": [],
   "source": []
  },
  {
   "cell_type": "markdown",
   "id": "106312e0",
   "metadata": {},
   "source": [
    "## 109."
   ]
  },
  {
   "cell_type": "code",
   "execution_count": null,
   "id": "de45ef2a",
   "metadata": {},
   "outputs": [],
   "source": []
  },
  {
   "cell_type": "markdown",
   "id": "cd47a542",
   "metadata": {},
   "source": [
    "## 110."
   ]
  },
  {
   "cell_type": "code",
   "execution_count": null,
   "id": "f4f44bd6",
   "metadata": {},
   "outputs": [],
   "source": []
  },
  {
   "cell_type": "markdown",
   "id": "7d1032a1",
   "metadata": {},
   "source": [
    "## 111."
   ]
  },
  {
   "cell_type": "code",
   "execution_count": null,
   "id": "c4be1fb8",
   "metadata": {},
   "outputs": [],
   "source": []
  },
  {
   "cell_type": "markdown",
   "id": "a60816bc",
   "metadata": {},
   "source": [
    "## 112."
   ]
  },
  {
   "cell_type": "code",
   "execution_count": null,
   "id": "c04a8697",
   "metadata": {},
   "outputs": [],
   "source": []
  },
  {
   "cell_type": "markdown",
   "id": "4c222e56",
   "metadata": {},
   "source": [
    "## 113."
   ]
  },
  {
   "cell_type": "code",
   "execution_count": null,
   "id": "8d7baf77",
   "metadata": {},
   "outputs": [],
   "source": []
  },
  {
   "cell_type": "markdown",
   "id": "9627a433",
   "metadata": {},
   "source": [
    "## 114."
   ]
  },
  {
   "cell_type": "code",
   "execution_count": null,
   "id": "9d7fc450",
   "metadata": {},
   "outputs": [],
   "source": []
  },
  {
   "cell_type": "markdown",
   "id": "59cfa9fe",
   "metadata": {},
   "source": [
    "## 115."
   ]
  },
  {
   "cell_type": "code",
   "execution_count": null,
   "id": "45712756",
   "metadata": {},
   "outputs": [],
   "source": []
  },
  {
   "cell_type": "markdown",
   "id": "d35fa682",
   "metadata": {},
   "source": [
    "## 116."
   ]
  },
  {
   "cell_type": "code",
   "execution_count": null,
   "id": "96ebe5cd",
   "metadata": {},
   "outputs": [],
   "source": []
  },
  {
   "cell_type": "markdown",
   "id": "a3450f35",
   "metadata": {},
   "source": [
    "## 117."
   ]
  },
  {
   "cell_type": "code",
   "execution_count": null,
   "id": "16ccce5e",
   "metadata": {},
   "outputs": [],
   "source": []
  },
  {
   "cell_type": "markdown",
   "id": "cf4df46f",
   "metadata": {},
   "source": [
    "## 118."
   ]
  },
  {
   "cell_type": "code",
   "execution_count": null,
   "id": "a0818f0d",
   "metadata": {},
   "outputs": [],
   "source": []
  },
  {
   "cell_type": "markdown",
   "id": "49c73b9d",
   "metadata": {},
   "source": [
    "## 119."
   ]
  },
  {
   "cell_type": "code",
   "execution_count": null,
   "id": "9c905167",
   "metadata": {},
   "outputs": [],
   "source": []
  },
  {
   "cell_type": "markdown",
   "id": "f4f3bb5e",
   "metadata": {},
   "source": [
    "## 120."
   ]
  },
  {
   "cell_type": "code",
   "execution_count": null,
   "id": "93f666f3",
   "metadata": {},
   "outputs": [],
   "source": []
  },
  {
   "cell_type": "markdown",
   "id": "a16a474a",
   "metadata": {},
   "source": [
    "## 121."
   ]
  },
  {
   "cell_type": "code",
   "execution_count": null,
   "id": "a1e4af6b",
   "metadata": {},
   "outputs": [],
   "source": []
  },
  {
   "cell_type": "markdown",
   "id": "dc449905",
   "metadata": {},
   "source": [
    "## 122."
   ]
  },
  {
   "cell_type": "code",
   "execution_count": null,
   "id": "ee828a5f",
   "metadata": {},
   "outputs": [],
   "source": []
  },
  {
   "cell_type": "markdown",
   "id": "58e21c9b",
   "metadata": {},
   "source": [
    "## 123."
   ]
  },
  {
   "cell_type": "code",
   "execution_count": null,
   "id": "1d8d8f67",
   "metadata": {},
   "outputs": [],
   "source": []
  },
  {
   "cell_type": "markdown",
   "id": "f4da6fc5",
   "metadata": {},
   "source": [
    "## 124."
   ]
  },
  {
   "cell_type": "code",
   "execution_count": null,
   "id": "a889c374",
   "metadata": {},
   "outputs": [],
   "source": []
  },
  {
   "cell_type": "markdown",
   "id": "1828e7ac",
   "metadata": {},
   "source": [
    "## 125."
   ]
  },
  {
   "cell_type": "code",
   "execution_count": null,
   "id": "686e80e6",
   "metadata": {},
   "outputs": [],
   "source": []
  },
  {
   "cell_type": "markdown",
   "id": "2385ec61",
   "metadata": {},
   "source": [
    "# Questions #126-150"
   ]
  },
  {
   "cell_type": "markdown",
   "id": "d8249454",
   "metadata": {},
   "source": [
    "## 126."
   ]
  },
  {
   "cell_type": "code",
   "execution_count": null,
   "id": "b70aa7f5",
   "metadata": {},
   "outputs": [],
   "source": []
  },
  {
   "cell_type": "markdown",
   "id": "dac5b076",
   "metadata": {},
   "source": [
    "## 127."
   ]
  },
  {
   "cell_type": "code",
   "execution_count": null,
   "id": "5e372a79",
   "metadata": {},
   "outputs": [],
   "source": []
  },
  {
   "cell_type": "markdown",
   "id": "70d4ea69",
   "metadata": {},
   "source": [
    "## 128."
   ]
  },
  {
   "cell_type": "code",
   "execution_count": null,
   "id": "bd19700f",
   "metadata": {},
   "outputs": [],
   "source": []
  },
  {
   "cell_type": "markdown",
   "id": "68757e08",
   "metadata": {},
   "source": [
    "## 129."
   ]
  },
  {
   "cell_type": "code",
   "execution_count": null,
   "id": "cb0e1b5b",
   "metadata": {},
   "outputs": [],
   "source": []
  },
  {
   "cell_type": "markdown",
   "id": "e5c328ea",
   "metadata": {},
   "source": [
    "## 130."
   ]
  },
  {
   "cell_type": "code",
   "execution_count": null,
   "id": "ee87e9d6",
   "metadata": {},
   "outputs": [],
   "source": []
  },
  {
   "cell_type": "markdown",
   "id": "7d6aa650",
   "metadata": {},
   "source": [
    "## 131."
   ]
  },
  {
   "cell_type": "code",
   "execution_count": null,
   "id": "9c0f603d",
   "metadata": {},
   "outputs": [],
   "source": []
  },
  {
   "cell_type": "markdown",
   "id": "39f062b6",
   "metadata": {},
   "source": [
    "## 132."
   ]
  },
  {
   "cell_type": "code",
   "execution_count": null,
   "id": "11749a5f",
   "metadata": {},
   "outputs": [],
   "source": []
  },
  {
   "cell_type": "markdown",
   "id": "8b2983a3",
   "metadata": {},
   "source": [
    "## 133."
   ]
  },
  {
   "cell_type": "code",
   "execution_count": null,
   "id": "f6a281a7",
   "metadata": {},
   "outputs": [],
   "source": []
  },
  {
   "cell_type": "markdown",
   "id": "7c8c5b36",
   "metadata": {},
   "source": [
    "## 134."
   ]
  },
  {
   "cell_type": "code",
   "execution_count": null,
   "id": "56c65488",
   "metadata": {},
   "outputs": [],
   "source": []
  },
  {
   "cell_type": "markdown",
   "id": "5c5dc542",
   "metadata": {},
   "source": [
    "## 135."
   ]
  },
  {
   "cell_type": "code",
   "execution_count": null,
   "id": "927ea805",
   "metadata": {},
   "outputs": [],
   "source": []
  },
  {
   "cell_type": "markdown",
   "id": "fb332e45",
   "metadata": {},
   "source": [
    "## 136."
   ]
  },
  {
   "cell_type": "code",
   "execution_count": null,
   "id": "5997c2f6",
   "metadata": {},
   "outputs": [],
   "source": []
  },
  {
   "cell_type": "markdown",
   "id": "c3eeb098",
   "metadata": {},
   "source": [
    "## 137."
   ]
  },
  {
   "cell_type": "code",
   "execution_count": null,
   "id": "8399abc4",
   "metadata": {},
   "outputs": [],
   "source": []
  },
  {
   "cell_type": "markdown",
   "id": "12575927",
   "metadata": {},
   "source": [
    "## 138."
   ]
  },
  {
   "cell_type": "code",
   "execution_count": null,
   "id": "a4eda87f",
   "metadata": {},
   "outputs": [],
   "source": []
  },
  {
   "cell_type": "markdown",
   "id": "ee42c9d7",
   "metadata": {},
   "source": [
    "## 139."
   ]
  },
  {
   "cell_type": "code",
   "execution_count": null,
   "id": "b63e939c",
   "metadata": {},
   "outputs": [],
   "source": []
  },
  {
   "cell_type": "markdown",
   "id": "d4c93837",
   "metadata": {},
   "source": [
    "## 140."
   ]
  },
  {
   "cell_type": "code",
   "execution_count": null,
   "id": "a4fd7261",
   "metadata": {},
   "outputs": [],
   "source": []
  },
  {
   "cell_type": "markdown",
   "id": "4362709a",
   "metadata": {},
   "source": [
    "## 141."
   ]
  },
  {
   "cell_type": "code",
   "execution_count": null,
   "id": "5c16c6cd",
   "metadata": {},
   "outputs": [],
   "source": []
  },
  {
   "cell_type": "markdown",
   "id": "baa94110",
   "metadata": {},
   "source": [
    "## 142."
   ]
  },
  {
   "cell_type": "code",
   "execution_count": null,
   "id": "ecec0b10",
   "metadata": {},
   "outputs": [],
   "source": []
  },
  {
   "cell_type": "markdown",
   "id": "703b833f",
   "metadata": {},
   "source": [
    "## 143."
   ]
  },
  {
   "cell_type": "code",
   "execution_count": null,
   "id": "80b77f67",
   "metadata": {},
   "outputs": [],
   "source": []
  },
  {
   "cell_type": "markdown",
   "id": "5dc090cb",
   "metadata": {},
   "source": [
    "## 144."
   ]
  },
  {
   "cell_type": "code",
   "execution_count": null,
   "id": "96935c6e",
   "metadata": {},
   "outputs": [],
   "source": []
  },
  {
   "cell_type": "markdown",
   "id": "e6434132",
   "metadata": {},
   "source": [
    "## 145."
   ]
  },
  {
   "cell_type": "code",
   "execution_count": null,
   "id": "7354160a",
   "metadata": {},
   "outputs": [],
   "source": []
  },
  {
   "cell_type": "markdown",
   "id": "ccf24dd0",
   "metadata": {},
   "source": [
    "## 146."
   ]
  },
  {
   "cell_type": "code",
   "execution_count": null,
   "id": "9e35df26",
   "metadata": {},
   "outputs": [],
   "source": []
  },
  {
   "cell_type": "markdown",
   "id": "2ffaf2b6",
   "metadata": {},
   "source": [
    "## 147."
   ]
  },
  {
   "cell_type": "code",
   "execution_count": null,
   "id": "2f04d185",
   "metadata": {},
   "outputs": [],
   "source": []
  },
  {
   "cell_type": "markdown",
   "id": "cd633dd1",
   "metadata": {},
   "source": [
    "## 148."
   ]
  },
  {
   "cell_type": "code",
   "execution_count": null,
   "id": "b6c3ff36",
   "metadata": {},
   "outputs": [],
   "source": []
  },
  {
   "cell_type": "markdown",
   "id": "f5284c34",
   "metadata": {},
   "source": [
    "## 149."
   ]
  },
  {
   "cell_type": "code",
   "execution_count": null,
   "id": "f3021af2",
   "metadata": {},
   "outputs": [],
   "source": []
  },
  {
   "cell_type": "markdown",
   "id": "f996704f",
   "metadata": {},
   "source": [
    "## 150."
   ]
  },
  {
   "cell_type": "code",
   "execution_count": null,
   "id": "7cddf5df",
   "metadata": {},
   "outputs": [],
   "source": []
  },
  {
   "cell_type": "markdown",
   "id": "ae5f696d",
   "metadata": {},
   "source": [
    "# Questions #151-175"
   ]
  },
  {
   "cell_type": "markdown",
   "id": "3b657adc",
   "metadata": {},
   "source": [
    "## 151."
   ]
  },
  {
   "cell_type": "code",
   "execution_count": null,
   "id": "1a5e92fa",
   "metadata": {},
   "outputs": [],
   "source": []
  },
  {
   "cell_type": "markdown",
   "id": "9cf51264",
   "metadata": {},
   "source": [
    "## 152."
   ]
  },
  {
   "cell_type": "code",
   "execution_count": null,
   "id": "3c30f2c1",
   "metadata": {},
   "outputs": [],
   "source": []
  },
  {
   "cell_type": "markdown",
   "id": "eecac544",
   "metadata": {},
   "source": [
    "## 153."
   ]
  },
  {
   "cell_type": "code",
   "execution_count": null,
   "id": "de57d58e",
   "metadata": {},
   "outputs": [],
   "source": []
  },
  {
   "cell_type": "markdown",
   "id": "7951ecde",
   "metadata": {},
   "source": [
    "## 154."
   ]
  },
  {
   "cell_type": "code",
   "execution_count": null,
   "id": "1ebc0898",
   "metadata": {},
   "outputs": [],
   "source": []
  },
  {
   "cell_type": "markdown",
   "id": "611a5698",
   "metadata": {},
   "source": [
    "## 155."
   ]
  },
  {
   "cell_type": "code",
   "execution_count": null,
   "id": "66673815",
   "metadata": {},
   "outputs": [],
   "source": []
  },
  {
   "cell_type": "markdown",
   "id": "40239667",
   "metadata": {},
   "source": [
    "## 156."
   ]
  },
  {
   "cell_type": "code",
   "execution_count": null,
   "id": "d0cd7b09",
   "metadata": {},
   "outputs": [],
   "source": []
  },
  {
   "cell_type": "markdown",
   "id": "b912be98",
   "metadata": {},
   "source": [
    "## 157."
   ]
  },
  {
   "cell_type": "code",
   "execution_count": null,
   "id": "404271d8",
   "metadata": {},
   "outputs": [],
   "source": []
  },
  {
   "cell_type": "markdown",
   "id": "7f95aff4",
   "metadata": {},
   "source": [
    "## 158."
   ]
  },
  {
   "cell_type": "code",
   "execution_count": null,
   "id": "d287a7f0",
   "metadata": {},
   "outputs": [],
   "source": []
  },
  {
   "cell_type": "markdown",
   "id": "47ac26b9",
   "metadata": {},
   "source": [
    "## 159."
   ]
  },
  {
   "cell_type": "code",
   "execution_count": null,
   "id": "bac27b51",
   "metadata": {},
   "outputs": [],
   "source": []
  },
  {
   "cell_type": "markdown",
   "id": "b2cdd457",
   "metadata": {},
   "source": [
    "## 160."
   ]
  },
  {
   "cell_type": "code",
   "execution_count": null,
   "id": "65a6ae09",
   "metadata": {},
   "outputs": [],
   "source": []
  },
  {
   "cell_type": "markdown",
   "id": "059c2e5c",
   "metadata": {},
   "source": [
    "## 161."
   ]
  },
  {
   "cell_type": "code",
   "execution_count": null,
   "id": "68978fb8",
   "metadata": {},
   "outputs": [],
   "source": []
  },
  {
   "cell_type": "markdown",
   "id": "b9261ae0",
   "metadata": {},
   "source": [
    "## 162."
   ]
  },
  {
   "cell_type": "code",
   "execution_count": null,
   "id": "eab9007a",
   "metadata": {},
   "outputs": [],
   "source": []
  },
  {
   "cell_type": "markdown",
   "id": "2819dae3",
   "metadata": {},
   "source": [
    "## 163."
   ]
  },
  {
   "cell_type": "code",
   "execution_count": null,
   "id": "470929c4",
   "metadata": {},
   "outputs": [],
   "source": []
  },
  {
   "cell_type": "markdown",
   "id": "818c3b0a",
   "metadata": {},
   "source": [
    "## 164."
   ]
  },
  {
   "cell_type": "code",
   "execution_count": null,
   "id": "4a7f2342",
   "metadata": {},
   "outputs": [],
   "source": []
  },
  {
   "cell_type": "markdown",
   "id": "d5f72aa2",
   "metadata": {},
   "source": [
    "## 165."
   ]
  },
  {
   "cell_type": "code",
   "execution_count": null,
   "id": "64c6a719",
   "metadata": {},
   "outputs": [],
   "source": []
  },
  {
   "cell_type": "markdown",
   "id": "f16507d7",
   "metadata": {},
   "source": [
    "## 166."
   ]
  },
  {
   "cell_type": "code",
   "execution_count": null,
   "id": "6f02ac13",
   "metadata": {},
   "outputs": [],
   "source": []
  },
  {
   "cell_type": "markdown",
   "id": "ffb20436",
   "metadata": {},
   "source": [
    "## 167."
   ]
  },
  {
   "cell_type": "code",
   "execution_count": null,
   "id": "2db595e8",
   "metadata": {},
   "outputs": [],
   "source": []
  },
  {
   "cell_type": "markdown",
   "id": "e8098bcf",
   "metadata": {},
   "source": [
    "## 168."
   ]
  },
  {
   "cell_type": "code",
   "execution_count": null,
   "id": "f6e54fdc",
   "metadata": {},
   "outputs": [],
   "source": []
  },
  {
   "cell_type": "markdown",
   "id": "15b16e24",
   "metadata": {},
   "source": [
    "## 169."
   ]
  },
  {
   "cell_type": "code",
   "execution_count": null,
   "id": "002ae9c7",
   "metadata": {},
   "outputs": [],
   "source": []
  },
  {
   "cell_type": "markdown",
   "id": "435f0b9f",
   "metadata": {},
   "source": [
    "## 170."
   ]
  },
  {
   "cell_type": "code",
   "execution_count": null,
   "id": "5417526d",
   "metadata": {},
   "outputs": [],
   "source": []
  },
  {
   "cell_type": "markdown",
   "id": "f852d019",
   "metadata": {},
   "source": [
    "## 171."
   ]
  },
  {
   "cell_type": "code",
   "execution_count": null,
   "id": "00c2b07a",
   "metadata": {},
   "outputs": [],
   "source": []
  },
  {
   "cell_type": "markdown",
   "id": "1dfa8a38",
   "metadata": {},
   "source": [
    "## 172."
   ]
  },
  {
   "cell_type": "code",
   "execution_count": null,
   "id": "9cb33c8e",
   "metadata": {},
   "outputs": [],
   "source": []
  },
  {
   "cell_type": "markdown",
   "id": "650aac03",
   "metadata": {},
   "source": [
    "## 173."
   ]
  },
  {
   "cell_type": "code",
   "execution_count": null,
   "id": "3f4c26f4",
   "metadata": {},
   "outputs": [],
   "source": []
  },
  {
   "cell_type": "markdown",
   "id": "9cfd7db6",
   "metadata": {},
   "source": [
    "## 174."
   ]
  },
  {
   "cell_type": "code",
   "execution_count": null,
   "id": "1129bbbf",
   "metadata": {},
   "outputs": [],
   "source": []
  },
  {
   "cell_type": "markdown",
   "id": "f0da4a9d",
   "metadata": {},
   "source": [
    "## 175."
   ]
  },
  {
   "cell_type": "code",
   "execution_count": null,
   "id": "bf163cd9",
   "metadata": {},
   "outputs": [],
   "source": []
  },
  {
   "cell_type": "markdown",
   "id": "602a871c",
   "metadata": {},
   "source": [
    "# Questions #176-200"
   ]
  },
  {
   "cell_type": "markdown",
   "id": "342af4ff",
   "metadata": {},
   "source": [
    "## 176."
   ]
  },
  {
   "cell_type": "code",
   "execution_count": null,
   "id": "0505c25b",
   "metadata": {},
   "outputs": [],
   "source": []
  },
  {
   "cell_type": "markdown",
   "id": "e64d015a",
   "metadata": {},
   "source": [
    "## 177."
   ]
  },
  {
   "cell_type": "code",
   "execution_count": null,
   "id": "1e89901b",
   "metadata": {},
   "outputs": [],
   "source": []
  },
  {
   "cell_type": "markdown",
   "id": "3f017c95",
   "metadata": {},
   "source": [
    "## 178."
   ]
  },
  {
   "cell_type": "code",
   "execution_count": null,
   "id": "1328d5de",
   "metadata": {},
   "outputs": [],
   "source": []
  },
  {
   "cell_type": "markdown",
   "id": "0b53be31",
   "metadata": {},
   "source": [
    "## 179."
   ]
  },
  {
   "cell_type": "code",
   "execution_count": null,
   "id": "fb6002d9",
   "metadata": {},
   "outputs": [],
   "source": []
  },
  {
   "cell_type": "markdown",
   "id": "890d1fc9",
   "metadata": {},
   "source": [
    "## 180."
   ]
  },
  {
   "cell_type": "code",
   "execution_count": null,
   "id": "add96c6a",
   "metadata": {},
   "outputs": [],
   "source": []
  },
  {
   "cell_type": "markdown",
   "id": "b2ffe0ee",
   "metadata": {},
   "source": [
    "## 181."
   ]
  },
  {
   "cell_type": "code",
   "execution_count": null,
   "id": "58742343",
   "metadata": {},
   "outputs": [],
   "source": []
  },
  {
   "cell_type": "markdown",
   "id": "2ac52247",
   "metadata": {},
   "source": [
    "## 182."
   ]
  },
  {
   "cell_type": "code",
   "execution_count": null,
   "id": "29807808",
   "metadata": {},
   "outputs": [],
   "source": []
  },
  {
   "cell_type": "markdown",
   "id": "5f5b0fb3",
   "metadata": {},
   "source": [
    "## 183."
   ]
  },
  {
   "cell_type": "code",
   "execution_count": null,
   "id": "75c12aa1",
   "metadata": {},
   "outputs": [],
   "source": []
  },
  {
   "cell_type": "markdown",
   "id": "3e64b2e9",
   "metadata": {},
   "source": [
    "## 184."
   ]
  },
  {
   "cell_type": "code",
   "execution_count": null,
   "id": "8d178bdd",
   "metadata": {},
   "outputs": [],
   "source": []
  },
  {
   "cell_type": "markdown",
   "id": "47a5c6a0",
   "metadata": {},
   "source": [
    "## 185."
   ]
  },
  {
   "cell_type": "code",
   "execution_count": null,
   "id": "8b871290",
   "metadata": {},
   "outputs": [],
   "source": []
  },
  {
   "cell_type": "markdown",
   "id": "47714b3a",
   "metadata": {},
   "source": [
    "## 186."
   ]
  },
  {
   "cell_type": "code",
   "execution_count": null,
   "id": "21452bae",
   "metadata": {},
   "outputs": [],
   "source": []
  },
  {
   "cell_type": "markdown",
   "id": "22629f33",
   "metadata": {},
   "source": [
    "## 187."
   ]
  },
  {
   "cell_type": "code",
   "execution_count": null,
   "id": "22b6e430",
   "metadata": {},
   "outputs": [],
   "source": []
  },
  {
   "cell_type": "markdown",
   "id": "282cabb9",
   "metadata": {},
   "source": [
    "## 188."
   ]
  },
  {
   "cell_type": "code",
   "execution_count": null,
   "id": "f72d1097",
   "metadata": {},
   "outputs": [],
   "source": []
  },
  {
   "cell_type": "markdown",
   "id": "cbcfce55",
   "metadata": {},
   "source": [
    "## 189."
   ]
  },
  {
   "cell_type": "code",
   "execution_count": null,
   "id": "e3377fa5",
   "metadata": {},
   "outputs": [],
   "source": []
  },
  {
   "cell_type": "markdown",
   "id": "457faed5",
   "metadata": {},
   "source": [
    "## 190."
   ]
  },
  {
   "cell_type": "code",
   "execution_count": null,
   "id": "98cf5295",
   "metadata": {},
   "outputs": [],
   "source": []
  },
  {
   "cell_type": "markdown",
   "id": "de3fc0c5",
   "metadata": {},
   "source": [
    "## 191."
   ]
  },
  {
   "cell_type": "code",
   "execution_count": null,
   "id": "736e16d8",
   "metadata": {},
   "outputs": [],
   "source": []
  },
  {
   "cell_type": "markdown",
   "id": "cea57db3",
   "metadata": {},
   "source": [
    "## 192."
   ]
  },
  {
   "cell_type": "code",
   "execution_count": null,
   "id": "198b7b69",
   "metadata": {},
   "outputs": [],
   "source": []
  },
  {
   "cell_type": "markdown",
   "id": "34868137",
   "metadata": {},
   "source": [
    "## 193."
   ]
  },
  {
   "cell_type": "code",
   "execution_count": null,
   "id": "4db33b79",
   "metadata": {},
   "outputs": [],
   "source": []
  },
  {
   "cell_type": "markdown",
   "id": "55c2d78c",
   "metadata": {},
   "source": [
    "## 194."
   ]
  },
  {
   "cell_type": "code",
   "execution_count": null,
   "id": "ae65e58d",
   "metadata": {},
   "outputs": [],
   "source": []
  },
  {
   "cell_type": "markdown",
   "id": "1a42dd98",
   "metadata": {},
   "source": [
    "## 195."
   ]
  },
  {
   "cell_type": "code",
   "execution_count": null,
   "id": "3fb1c192",
   "metadata": {},
   "outputs": [],
   "source": []
  },
  {
   "cell_type": "markdown",
   "id": "485d55db",
   "metadata": {},
   "source": [
    "## 196."
   ]
  },
  {
   "cell_type": "code",
   "execution_count": null,
   "id": "6e529394",
   "metadata": {},
   "outputs": [],
   "source": []
  },
  {
   "cell_type": "markdown",
   "id": "ae926a04",
   "metadata": {},
   "source": [
    "## 197."
   ]
  },
  {
   "cell_type": "code",
   "execution_count": null,
   "id": "bd447854",
   "metadata": {},
   "outputs": [],
   "source": []
  },
  {
   "cell_type": "markdown",
   "id": "d72d2999",
   "metadata": {},
   "source": [
    "## 198."
   ]
  },
  {
   "cell_type": "code",
   "execution_count": null,
   "id": "8c1a9cba",
   "metadata": {},
   "outputs": [],
   "source": []
  },
  {
   "cell_type": "markdown",
   "id": "fc741898",
   "metadata": {},
   "source": [
    "## 199."
   ]
  },
  {
   "cell_type": "code",
   "execution_count": null,
   "id": "593f3cfe",
   "metadata": {},
   "outputs": [],
   "source": []
  },
  {
   "cell_type": "markdown",
   "id": "5686c640",
   "metadata": {},
   "source": [
    "## 200."
   ]
  },
  {
   "cell_type": "code",
   "execution_count": null,
   "id": "5bd217a8",
   "metadata": {},
   "outputs": [],
   "source": []
  }
 ],
 "metadata": {
  "kernelspec": {
   "display_name": "Python 3",
   "language": "python",
   "name": "python3"
  },
  "language_info": {
   "codemirror_mode": {
    "name": "ipython",
    "version": 3
   },
   "file_extension": ".py",
   "mimetype": "text/x-python",
   "name": "python",
   "nbconvert_exporter": "python",
   "pygments_lexer": "ipython3",
   "version": "3.13.5"
  }
 },
 "nbformat": 4,
 "nbformat_minor": 5
}
