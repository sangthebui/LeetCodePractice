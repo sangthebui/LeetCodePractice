{
 "cells": [
  {
   "cell_type": "markdown",
   "id": "19feeb67",
   "metadata": {},
   "source": [
    "# Practice 1 \n",
    "- Start with Easy\n",
    "- Questions from LeetCode"
   ]
  },
  {
   "cell_type": "markdown",
   "id": "137a9c88",
   "metadata": {},
   "source": [
    "## 1. Two Sum\n",
    "- Given an array of integers nums and an integer target, return indices of the two numbers such that they add up to target.\n",
    "\n",
    "- You may assume that each input would have exactly one solution, and you may not use the same element twice.\n",
    "\n",
    "- You can return the answer in any order.\n",
    "- Example 1:\n",
    "\n",
    "- Input: nums = [2,7,11,15], target = 9\n",
    "- Output: [0,1]\n",
    "- Explanation: Because nums[0] + nums[1] == 9, we return [0, 1].\n",
    "- Example 2:\n",
    "\n",
    "- Input: nums = [3,2,4], target = 6\n",
    "- Output: [1,2]\n",
    "- Example 3:\n",
    "\n",
    "- Input: nums = [3,3], target = 6\n",
    "- Output: [0,1]\n",
    "\n",
    "- Constraints:\n",
    "\n",
    "- 2 <= nums.length <= 104\n",
    "- -109 <= nums[i] <= 109\n",
    "- -109 <= target <= 109\n",
    "- Only one valid answer exists.\n",
    " \n",
    "\n",
    "- Follow-up: Can you come up with an algorithm that is less than O(n2) time complexity?"
   ]
  },
  {
   "cell_type": "code",
   "execution_count": 1,
   "id": "598564b9",
   "metadata": {},
   "outputs": [],
   "source": [
    "from typing import List"
   ]
  },
  {
   "cell_type": "code",
   "execution_count": 2,
   "id": "06d3e151",
   "metadata": {},
   "outputs": [],
   "source": [
    "class Solution:\n",
    "    def twoSum(self, nums: List[int], target: int) -> List[int]:\n",
    "        n = len(nums)\n",
    "        for i in range(n):\n",
    "            for j in range(i + 1, n):\n",
    "                if nums[i] + nums[j] == target:\n",
    "                    return [i, j]\n",
    "        return []"
   ]
  },
  {
   "cell_type": "markdown",
   "id": "a0ff91a4",
   "metadata": {},
   "source": [
    "## 2. Get the Size of a DataFrame\n",
    "- DataFrame players:\n",
    "\n",
    "| Column Name | Type   |\n",
    "| ----------- | ------ | \n",
    "| player_id   | int    |\n",
    "| name        | object |\n",
    "| age         | int    |\n",
    "| position    | object |\n",
    "| ...         | ...    |\n",
    "- Write a solution to calculate and display the number of rows and columns of players.\n",
    "\n",
    "- Return the result as an array:\n",
    "\n",
    "- [number of rows, number of columns]\n",
    "\n",
    "- The result format is in the following example.\n",
    "\n",
    "- Example 1:\n",
    "\n",
    "Input:\n",
    "| player_id | name     | age | position    | team               |\n",
    "| --------- | -------- | --- | ---------   | -------------------|\n",
    "| 846       | Mason    | 21  | Forward     | RealMadrid         |\n",
    "| 749       | Riley    | 30  | Winger      | Barcelona          |\n",
    "| 155       | Bob      | 28  | Striker     | ManchesterUnited   |\n",
    "| 583       | Isabella | 32  | Goalkeeper  | Liverpool          |\n",
    "| 388       | Zachary  | 24  | Midfielder  | BayernMunich       |\n",
    "| 883       | Ava      | 23  | Defender    | Chelsea            |\n",
    "| 355       | Violet   | 18  | Striker     | Juventus           |\n",
    "| 247       | Thomas   | 27  | Striker     | ParisSaint-Germain |\n",
    "| 761       | Jack     | 33  | Midfielder  | ManchesterCity     |\n",
    "| 642       | Charlie  | 36  | Center-back | Arsenal            |\n",
    "\n",
    "- Output:\n",
    "- [10, 5]\n",
    "- Explanation:\n",
    "- This DataFrame contains 10 rows and 5 columns."
   ]
  },
  {
   "cell_type": "code",
   "execution_count": 3,
   "id": "3dd37773",
   "metadata": {},
   "outputs": [],
   "source": [
    "import pandas as pd\n",
    "\n",
    "def getDataframeSize(players: pd.DataFrame) -> List[int]:\n",
    "    return [len(players), len(players.columns)]"
   ]
  },
  {
   "cell_type": "markdown",
   "id": "8b481b63",
   "metadata": {},
   "source": [
    "## 3. Create a DataFrame from List\n",
    "\n",
    "- Write a solution to create a DataFrame from a 2D list called student_data. This 2D list contains the IDs and ages of some students.\n",
    "\n",
    "- The DataFrame should have two columns, student_id and age, and be in the same order as the original 2D list.\n",
    "\n",
    "- The result format is in the following example.\n",
    "\n",
    " \n",
    "\n",
    "- Example 1:\n",
    "\n",
    "- Input:\n",
    "- student_data:\n",
    "```python\n",
    "[\n",
    "  [1, 15],\n",
    "  [2, 11],\n",
    "  [3, 11],\n",
    "  [4, 20]\n",
    "]\n",
    "```\n",
    "Output:\n",
    "\n",
    "| student_id | age |\n",
    "| -------- | -- |\n",
    "| 1          | 15  |\n",
    "| 2          | 11  |\n",
    "| 3          | 11  |\n",
    "| 4          | 20  |\n",
    "\n",
    "- Explanation:\n",
    "- A DataFrame was created on top of student_data, with two columns named student_id and age."
   ]
  },
  {
   "cell_type": "code",
   "execution_count": 4,
   "id": "1a106277",
   "metadata": {},
   "outputs": [],
   "source": [
    "import pandas as pd\n",
    "\n",
    "def createDataframe(student_data: List[List[int]]) -> pd.DataFrame:\n",
    "    return pd.DataFrame(data=student_data, columns=[\"student_id\", \"age\"])"
   ]
  },
  {
   "cell_type": "markdown",
   "id": "5120bb8a",
   "metadata": {},
   "source": [
    "## 4. Check If Digits Are Equal in String After Operations I\n",
    "- You are given a string s consisting of digits. Perform the following operation repeatedly until the string has exactly two digits:\n",
    "\n",
    "- For each pair of consecutive digits in s, starting from the first digit, calculate a new digit as the sum of the two digits modulo 10.\n",
    "Replace s with the sequence of newly calculated digits, maintaining the order in which they are computed.\n",
    "Return true if the final two digits in s are the same; otherwise, return false.\n",
    "\n",
    " \n",
    "\n",
    "- Example 1:\n",
    "\n",
    "- Input: s = \"3902\"\n",
    "\n",
    "- Output: true\n",
    "\n",
    "- Explanation:\n",
    "\n",
    "- Initially, s = \"3902\"\n",
    "- First operation:\n",
    "- (s[0] + s[1]) % 10 = (3 + 9) % 10 = 2\n",
    "- (s[1] + s[2]) % 10 = (9 + 0) % 10 = 9\n",
    "- (s[2] + s[3]) % 10 = (0 + 2) % 10 = 2\n",
    "- s becomes \"292\"\n",
    "- Second operation:\n",
    "- (s[0] + s[1]) % 10 = (2 + 9) % 10 = 1\n",
    "- (s[1] + s[2]) % 10 = (9 + 2) % 10 = 1\n",
    "- s becomes \"11\"\n",
    "- Since the digits in \"11\" are the same, the output is true.\n",
    "- Example 2:\n",
    "\n",
    "- Input: s = \"34789\"\n",
    "\n",
    "- Output: false\n",
    "\n",
    "- Explanation:\n",
    "\n",
    "- Initially, s = \"34789\".\n",
    "- After the first operation, s = \"7157\".\n",
    "- After the second operation, s = \"862\".\n",
    "- After the third operation, s = \"48\".\n",
    "- Since '4' != '8', the output is false.\n",
    " \n",
    "\n",
    "- Constraints:\n",
    "\n",
    "- 3 <= s.length <= 100\n",
    "- s consists of only digits."
   ]
  },
  {
   "cell_type": "code",
   "execution_count": 7,
   "id": "eeeff4db",
   "metadata": {},
   "outputs": [],
   "source": [
    "class Solution:\n",
    "    def hasSameDigits(self, s: str) -> bool:\n",
    "        while len(s) > 2:\n",
    "            new_s_list = []\n",
    "            for i in range(len(s) - 1):\n",
    "                digit1 = int(s[i])\n",
    "                digit2 = int(s[i+1])\n",
    "                new_digit = (digit1 + digit2) % 10\n",
    "                new_s_list.append(str(new_digit))\n",
    "            s = \"\".join(new_s_list)\n",
    "        \n",
    "        return s[0] == s[1]"
   ]
  },
  {
   "cell_type": "code",
   "execution_count": 9,
   "id": "022b271a",
   "metadata": {},
   "outputs": [
    {
     "data": {
      "text/plain": [
       "True"
      ]
     },
     "execution_count": 9,
     "metadata": {},
     "output_type": "execute_result"
    }
   ],
   "source": [
    "sol = Solution()\n",
    "sol.hasSameDigits(\"3902\")"
   ]
  },
  {
   "cell_type": "markdown",
   "id": "66d66097",
   "metadata": {},
   "source": [
    "## 5. Maximum Difference Between Even and Odd Frequency I\n",
    "- You are given a string s consisting of lowercase English letters.\n",
    "- Your task is to find the maximum difference diff = freq(a1) - freq(a2) between the frequency of characters a1 and a2 in the string such that:\n",
    "    - a1 has an odd frequency in the string.\n",
    "    - a2 has an even frequency in the string.\n",
    "- Return this maximum difference.\n",
    "\n",
    "- Example 1:\n",
    "\n",
    "- Input: s = \"aaaaabbc\"\n",
    "\n",
    "- Output: 3\n",
    "\n",
    "- Explanation:\n",
    "    - The character 'a' has an odd frequency of 5, and 'b' has an even frequency of 2.\n",
    "    - The maximum difference is 5 - 2 = 3.\n",
    "\n",
    "- Example 2:\n",
    "\n",
    "- Input: s = \"abcabcab\"\n",
    "\n",
    "- Output: 1\n",
    "\n",
    "- Explanation:\n",
    "    - The character 'a' has an odd frequency of 3, and 'c' has an even frequency of 2.\n",
    "    - The maximum difference is 3 - 2 = 1.\n",
    "\n",
    "- Constraints:\n",
    "    - 3 <= s.length <= 100\n",
    "    - s consists only of lowercase English letters.\n",
    "    - s contains at least one character with an odd frequency and one with an even frequency."
   ]
  },
  {
   "cell_type": "code",
   "execution_count": 12,
   "id": "fa892cc5",
   "metadata": {},
   "outputs": [],
   "source": [
    "from collections import Counter\n",
    "import math"
   ]
  },
  {
   "cell_type": "code",
   "execution_count": 17,
   "id": "6a0abf30",
   "metadata": {},
   "outputs": [],
   "source": [
    "\n",
    "class Solution:\n",
    "    def maxDifference(self, s: str) -> int:\n",
    "        freq = Counter(s)\n",
    "        maxOdd = 0\n",
    "        maxEven = math.inf\n",
    "        for value in freq.values():\n",
    "            if value == 0: continue\n",
    "            if value % 2 == 0:\n",
    "                # even case\n",
    "                maxEven = min(value, maxEven)\n",
    "            else:\n",
    "                # odd case\n",
    "                maxOdd = max(value, maxOdd)\n",
    "        return maxOdd - maxEven\n"
   ]
  },
  {
   "cell_type": "code",
   "execution_count": null,
   "id": "93339d94",
   "metadata": {},
   "outputs": [
    {
     "data": {
      "text/plain": [
       "3"
      ]
     },
     "execution_count": 20,
     "metadata": {},
     "output_type": "execute_result"
    }
   ],
   "source": [
    "sol = Solution()\n",
    "sol.maxDifference(s)"
   ]
  },
  {
   "cell_type": "code",
   "execution_count": null,
   "id": "6d5213d8",
   "metadata": {},
   "outputs": [],
   "source": []
  }
 ],
 "metadata": {
  "kernelspec": {
   "display_name": "Python 3",
   "language": "python",
   "name": "python3"
  },
  "language_info": {
   "codemirror_mode": {
    "name": "ipython",
    "version": 3
   },
   "file_extension": ".py",
   "mimetype": "text/x-python",
   "name": "python",
   "nbconvert_exporter": "python",
   "pygments_lexer": "ipython3",
   "version": "3.13.5"
  }
 },
 "nbformat": 4,
 "nbformat_minor": 5
}
